{
 "cells": [
  {
   "attachments": {},
   "cell_type": "markdown",
   "metadata": {},
   "source": [
    "# Figure 2"
   ]
  },
  {
   "cell_type": "code",
   "execution_count": 114,
   "metadata": {},
   "outputs": [],
   "source": [
    "import numpy, pandas\n",
    "import matplotlib\n",
    "import matplotlib.pyplot as plt\n",
    "import MDAnalysis"
   ]
  },
  {
   "attachments": {},
   "cell_type": "markdown",
   "metadata": {},
   "source": [
    "## Figure 2a"
   ]
  },
  {
   "cell_type": "code",
   "execution_count": 5,
   "metadata": {},
   "outputs": [
    {
     "data": {
      "text/html": [
       "<div>\n",
       "<style scoped>\n",
       "    .dataframe tbody tr th:only-of-type {\n",
       "        vertical-align: middle;\n",
       "    }\n",
       "\n",
       "    .dataframe tbody tr th {\n",
       "        vertical-align: top;\n",
       "    }\n",
       "\n",
       "    .dataframe thead th {\n",
       "        text-align: right;\n",
       "    }\n",
       "</style>\n",
       "<table border=\"1\" class=\"dataframe\">\n",
       "  <thead>\n",
       "    <tr style=\"text-align: right;\">\n",
       "      <th></th>\n",
       "      <th>MUTATION</th>\n",
       "      <th>CONSISTENT_PHENOTYPE</th>\n",
       "      <th>POSITION</th>\n",
       "    </tr>\n",
       "  </thead>\n",
       "  <tbody>\n",
       "    <tr>\n",
       "      <th>0</th>\n",
       "      <td>A102V</td>\n",
       "      <td>S</td>\n",
       "      <td>102</td>\n",
       "    </tr>\n",
       "    <tr>\n",
       "      <th>1</th>\n",
       "      <td>A134D</td>\n",
       "      <td>S</td>\n",
       "      <td>134</td>\n",
       "    </tr>\n",
       "    <tr>\n",
       "      <th>2</th>\n",
       "      <td>A134P</td>\n",
       "      <td>R</td>\n",
       "      <td>134</td>\n",
       "    </tr>\n",
       "    <tr>\n",
       "      <th>3</th>\n",
       "      <td>A134S</td>\n",
       "      <td>S</td>\n",
       "      <td>134</td>\n",
       "    </tr>\n",
       "    <tr>\n",
       "      <th>4</th>\n",
       "      <td>A134V</td>\n",
       "      <td>R</td>\n",
       "      <td>134</td>\n",
       "    </tr>\n",
       "    <tr>\n",
       "      <th>...</th>\n",
       "      <td>...</td>\n",
       "      <td>...</td>\n",
       "      <td>...</td>\n",
       "    </tr>\n",
       "    <tr>\n",
       "      <th>659</th>\n",
       "      <td>Y95N</td>\n",
       "      <td>S</td>\n",
       "      <td>95</td>\n",
       "    </tr>\n",
       "    <tr>\n",
       "      <th>660</th>\n",
       "      <td>Y99C</td>\n",
       "      <td>S</td>\n",
       "      <td>99</td>\n",
       "    </tr>\n",
       "    <tr>\n",
       "      <th>661</th>\n",
       "      <td>Y99D</td>\n",
       "      <td>S</td>\n",
       "      <td>99</td>\n",
       "    </tr>\n",
       "    <tr>\n",
       "      <th>662</th>\n",
       "      <td>Y99F</td>\n",
       "      <td>S</td>\n",
       "      <td>99</td>\n",
       "    </tr>\n",
       "    <tr>\n",
       "      <th>663</th>\n",
       "      <td>Y99N</td>\n",
       "      <td>S</td>\n",
       "      <td>99</td>\n",
       "    </tr>\n",
       "  </tbody>\n",
       "</table>\n",
       "<p>664 rows × 3 columns</p>\n",
       "</div>"
      ],
      "text/plain": [
       "    MUTATION CONSISTENT_PHENOTYPE  POSITION\n",
       "0      A102V                    S       102\n",
       "1      A134D                    S       134\n",
       "2      A134P                    R       134\n",
       "3      A134S                    S       134\n",
       "4      A134V                    R       134\n",
       "..       ...                  ...       ...\n",
       "659     Y95N                    S        95\n",
       "660     Y99C                    S        99\n",
       "661     Y99D                    S        99\n",
       "662     Y99F                    S        99\n",
       "663     Y99N                    S        99\n",
       "\n",
       "[664 rows x 3 columns]"
      ]
     },
     "execution_count": 5,
     "metadata": {},
     "output_type": "execute_result"
    }
   ],
   "source": [
    "DATASET = pandas.read_csv('data/ds-traintest-phen.csv')\n",
    "def find_position(row):\n",
    "    return int(row.MUTATION[1:-1])\n",
    "DATASET['POSITION'] = DATASET.apply(find_position, axis=1)\n",
    "DATASET"
   ]
  },
  {
   "attachments": {},
   "cell_type": "markdown",
   "metadata": {},
   "source": [
    "Make a crosstab so we can pick out codons which tend to have mutations associated with resistance etc"
   ]
  },
  {
   "cell_type": "code",
   "execution_count": 111,
   "metadata": {},
   "outputs": [
    {
     "data": {
      "text/html": [
       "<div>\n",
       "<style scoped>\n",
       "    .dataframe tbody tr th:only-of-type {\n",
       "        vertical-align: middle;\n",
       "    }\n",
       "\n",
       "    .dataframe tbody tr th {\n",
       "        vertical-align: top;\n",
       "    }\n",
       "\n",
       "    .dataframe thead th {\n",
       "        text-align: right;\n",
       "    }\n",
       "</style>\n",
       "<table border=\"1\" class=\"dataframe\">\n",
       "  <thead>\n",
       "    <tr style=\"text-align: right;\">\n",
       "      <th>CONSISTENT_PHENOTYPE</th>\n",
       "      <th>R</th>\n",
       "      <th>S</th>\n",
       "      <th>TOTAL</th>\n",
       "      <th>PROP_R</th>\n",
       "    </tr>\n",
       "    <tr>\n",
       "      <th>POSITION</th>\n",
       "      <th></th>\n",
       "      <th></th>\n",
       "      <th></th>\n",
       "      <th></th>\n",
       "    </tr>\n",
       "  </thead>\n",
       "  <tbody>\n",
       "    <tr>\n",
       "      <th>1</th>\n",
       "      <td>2</td>\n",
       "      <td>1</td>\n",
       "      <td>3</td>\n",
       "      <td>0.666667</td>\n",
       "    </tr>\n",
       "    <tr>\n",
       "      <th>2</th>\n",
       "      <td>0</td>\n",
       "      <td>1</td>\n",
       "      <td>1</td>\n",
       "      <td>0.000000</td>\n",
       "    </tr>\n",
       "    <tr>\n",
       "      <th>3</th>\n",
       "      <td>1</td>\n",
       "      <td>2</td>\n",
       "      <td>3</td>\n",
       "      <td>0.333333</td>\n",
       "    </tr>\n",
       "    <tr>\n",
       "      <th>4</th>\n",
       "      <td>4</td>\n",
       "      <td>1</td>\n",
       "      <td>5</td>\n",
       "      <td>0.800000</td>\n",
       "    </tr>\n",
       "    <tr>\n",
       "      <th>5</th>\n",
       "      <td>5</td>\n",
       "      <td>1</td>\n",
       "      <td>6</td>\n",
       "      <td>0.833333</td>\n",
       "    </tr>\n",
       "    <tr>\n",
       "      <th>...</th>\n",
       "      <td>...</td>\n",
       "      <td>...</td>\n",
       "      <td>...</td>\n",
       "      <td>...</td>\n",
       "    </tr>\n",
       "    <tr>\n",
       "      <th>181</th>\n",
       "      <td>1</td>\n",
       "      <td>1</td>\n",
       "      <td>2</td>\n",
       "      <td>0.500000</td>\n",
       "    </tr>\n",
       "    <tr>\n",
       "      <th>182</th>\n",
       "      <td>1</td>\n",
       "      <td>1</td>\n",
       "      <td>2</td>\n",
       "      <td>0.500000</td>\n",
       "    </tr>\n",
       "    <tr>\n",
       "      <th>183</th>\n",
       "      <td>1</td>\n",
       "      <td>2</td>\n",
       "      <td>3</td>\n",
       "      <td>0.333333</td>\n",
       "    </tr>\n",
       "    <tr>\n",
       "      <th>184</th>\n",
       "      <td>1</td>\n",
       "      <td>1</td>\n",
       "      <td>2</td>\n",
       "      <td>0.500000</td>\n",
       "    </tr>\n",
       "    <tr>\n",
       "      <th>185</th>\n",
       "      <td>0</td>\n",
       "      <td>6</td>\n",
       "      <td>6</td>\n",
       "      <td>0.000000</td>\n",
       "    </tr>\n",
       "  </tbody>\n",
       "</table>\n",
       "<p>184 rows × 4 columns</p>\n",
       "</div>"
      ],
      "text/plain": [
       "CONSISTENT_PHENOTYPE  R  S  TOTAL    PROP_R\n",
       "POSITION                                   \n",
       "1                     2  1      3  0.666667\n",
       "2                     0  1      1  0.000000\n",
       "3                     1  2      3  0.333333\n",
       "4                     4  1      5  0.800000\n",
       "5                     5  1      6  0.833333\n",
       "...                  .. ..    ...       ...\n",
       "181                   1  1      2  0.500000\n",
       "182                   1  1      2  0.500000\n",
       "183                   1  2      3  0.333333\n",
       "184                   1  1      2  0.500000\n",
       "185                   0  6      6  0.000000\n",
       "\n",
       "[184 rows x 4 columns]"
      ]
     },
     "execution_count": 111,
     "metadata": {},
     "output_type": "execute_result"
    }
   ],
   "source": [
    "df = pandas.crosstab(DATASET.POSITION, DATASET.CONSISTENT_PHENOTYPE)\n",
    "df['TOTAL'] = df['S'] + df['R']\n",
    "df['PROP_R'] = df['R']/df['TOTAL']\n",
    "df"
   ]
  },
  {
   "attachments": {},
   "cell_type": "markdown",
   "metadata": {},
   "source": [
    "What is the distribution?"
   ]
  },
  {
   "cell_type": "code",
   "execution_count": null,
   "metadata": {},
   "outputs": [
    {
     "data": {
      "text/plain": [
       "0.000000    38\n",
       "0.166667     1\n",
       "0.200000     3\n",
       "0.250000    16\n",
       "0.333333    25\n",
       "0.400000     2\n",
       "0.500000    21\n",
       "0.600000     6\n",
       "0.666667    19\n",
       "0.750000     8\n",
       "0.800000     6\n",
       "0.833333     2\n",
       "1.000000    37\n",
       "Name: PROP_R, dtype: int64"
      ]
     },
     "metadata": {},
     "output_type": "display_data"
    }
   ],
   "source": [
    "df.PROP_R.value_counts().sort_index()"
   ]
  },
  {
   "attachments": {},
   "cell_type": "markdown",
   "metadata": {},
   "source": [
    "First, let's pick up those codons where less than 20% of mutations are associated with resistance"
   ]
  },
  {
   "cell_type": "code",
   "execution_count": 109,
   "metadata": {},
   "outputs": [
    {
     "data": {
      "text/plain": [
       "'resid 2 11 15 20 25 33 37 39 40 45 50 53 56 60 61 64 73 74 80 83 84 87 91 95 98 99 100 102 107 111 112 113 121 126 141 144 148 157 167 169 178 185'"
      ]
     },
     "execution_count": 109,
     "metadata": {},
     "output_type": "execute_result"
    }
   ],
   "source": [
    "df2 = df[df.PROP_R<=0.2]\n",
    "'resid ' + ' '.join(str(i) for i in numpy.sort(df2.index.unique()))"
   ]
  },
  {
   "attachments": {},
   "cell_type": "markdown",
   "metadata": {},
   "source": [
    "Then those where greater than 80% are associated with resistance"
   ]
  },
  {
   "cell_type": "code",
   "execution_count": 108,
   "metadata": {},
   "outputs": [
    {
     "data": {
      "text/plain": [
       "'resid 4 5 7 8 10 12 13 14 24 31 41 47 49 51 54 57 62 63 68 69 71 72 76 93 94 96 97 103 104 108 116 119 132 135 138 139 142 146 155 159 164 165 170 175 180'"
      ]
     },
     "execution_count": 108,
     "metadata": {},
     "output_type": "execute_result"
    }
   ],
   "source": [
    "df2 = df[df.PROP_R>=0.8]\n",
    "'resid ' + ' '.join(str(i) for i in numpy.sort(df2.index.unique()))"
   ]
  },
  {
   "attachments": {},
   "cell_type": "markdown",
   "metadata": {},
   "source": [
    "..and finally those where between 40 and 60% of mutations are associated with resistance"
   ]
  },
  {
   "cell_type": "code",
   "execution_count": 112,
   "metadata": {},
   "outputs": [
    {
     "data": {
      "text/plain": [
       "'resid 17 30 32 38 42 44 55 65 70 81 82 90 92 101 105 110 115 118 120 125 133 134 147 154 160 166 181 182 184'"
      ]
     },
     "execution_count": 112,
     "metadata": {},
     "output_type": "execute_result"
    }
   ],
   "source": [
    "df2 = df[(df.PROP_R>=0.4) & (df.PROP_R<=0.6)]\n",
    "'resid ' + ' '.join(str(i) for i in numpy.sort(df2.index.unique()))"
   ]
  },
  {
   "attachments": {},
   "cell_type": "markdown",
   "metadata": {},
   "source": [
    "Create a PDB file with the proportion of resistance stored in the `BETA` column"
   ]
  },
  {
   "cell_type": "code",
   "execution_count": 118,
   "metadata": {},
   "outputs": [
    {
     "name": "stderr",
     "output_type": "stream",
     "text": [
      "/Users/fowler/Library/Python/3.10/lib/python/site-packages/MDAnalysis/topology/PDBParser.py:334: UserWarning: Unknown element  found for some atoms. These have been given an empty element record. If needed they can be guessed using MDAnalysis.topology.guessers.\n",
      "  warnings.warn(wmsg)\n",
      "/Users/fowler/Library/Python/3.10/lib/python/site-packages/MDAnalysis/topology/guessers.py:146: UserWarning: Failed to guess the mass for the following atom types: \n",
      "  warnings.warn(\"Failed to guess the mass for the following atom types: {}\".format(atom_type))\n"
     ]
    }
   ],
   "source": [
    "u = MDAnalysis.Universe('data/reference/3PL1-PZA.pdb')\n",
    "\n",
    "positions = df[(df.PROP_R==0)].index\n",
    "a = u.select_atoms('resid ' + ' '.join(str(i) for i in positions))\n",
    "a.atoms.tempfactors = 0\n",
    "\n",
    "positions = df[(df.PROP_R>0) & (df.PROP_R<0.2)].index\n",
    "a = u.select_atoms('resid ' + ' '.join(str(i) for i in positions))\n",
    "a.atoms.tempfactors = 16.667\n",
    "\n",
    "positions = df[(df.PROP_R==0.2)].index\n",
    "a = u.select_atoms('resid ' + ' '.join(str(i) for i in positions))\n",
    "a.atoms.tempfactors = 20\n",
    "\n",
    "positions = df[(df.PROP_R==0.25)].index\n",
    "a = u.select_atoms('resid ' + ' '.join(str(i) for i in positions))\n",
    "a.atoms.tempfactors = 25\n",
    "\n",
    "positions = df[(df.PROP_R>0.25) & (df.PROP_R<0.4)].index\n",
    "a = u.select_atoms('resid ' + ' '.join(str(i) for i in positions))\n",
    "a.atoms.tempfactors = 33.3333\n",
    "\n",
    "positions = df[(df.PROP_R==0.4)].index\n",
    "a = u.select_atoms('resid ' + ' '.join(str(i) for i in positions))\n",
    "a.atoms.tempfactors = 40\n",
    "\n",
    "positions = df[(df.PROP_R==0.5)].index\n",
    "a = u.select_atoms('resid ' + ' '.join(str(i) for i in positions))\n",
    "a.atoms.tempfactors = 50\n",
    "\n",
    "positions = df[(df.PROP_R==0.6)].index\n",
    "a = u.select_atoms('resid ' + ' '.join(str(i) for i in positions))\n",
    "a.atoms.tempfactors = 60\n",
    "\n",
    "positions = df[(df.PROP_R>0.6) & (df.PROP_R<0.7)].index\n",
    "a = u.select_atoms('resid ' + ' '.join(str(i) for i in positions))\n",
    "a.atoms.tempfactors = 66.66667\n",
    "\n",
    "positions = df[(df.PROP_R==0.75)].index\n",
    "a = u.select_atoms('resid ' + ' '.join(str(i) for i in positions))\n",
    "a.atoms.tempfactors = 75\n",
    "\n",
    "positions = df[(df.PROP_R==0.8)].index\n",
    "a = u.select_atoms('resid ' + ' '.join(str(i) for i in positions))\n",
    "a.atoms.tempfactors = 80\n",
    "\n",
    "positions = df[(df.PROP_R>0.8) & (df.PROP_R<0.9)].index\n",
    "a = u.select_atoms('resid ' + ' '.join(str(i) for i in positions))\n",
    "a.atoms.tempfactors = 83.3333\n",
    "\n",
    "positions = df[(df.PROP_R==1)].index\n",
    "a = u.select_atoms('resid ' + ' '.join(str(i) for i in positions))\n",
    "a.atoms.tempfactors = 100\n",
    "\n",
    "all = u.select_atoms('all')\n",
    "all.write('data/reference/3PL1-PZA-beta.pdb')"
   ]
  },
  {
   "cell_type": "code",
   "execution_count": null,
   "metadata": {},
   "outputs": [],
   "source": []
  }
 ],
 "metadata": {
  "kernelspec": {
   "display_name": "Python 3",
   "language": "python",
   "name": "python3"
  },
  "language_info": {
   "codemirror_mode": {
    "name": "ipython",
    "version": 3
   },
   "file_extension": ".py",
   "mimetype": "text/x-python",
   "name": "python",
   "nbconvert_exporter": "python",
   "pygments_lexer": "ipython3",
   "version": "3.10.9"
  },
  "orig_nbformat": 4
 },
 "nbformat": 4,
 "nbformat_minor": 2
}
