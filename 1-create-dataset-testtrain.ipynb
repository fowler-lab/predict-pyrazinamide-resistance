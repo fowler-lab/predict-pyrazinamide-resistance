{
 "cells": [
  {
   "cell_type": "code",
   "execution_count": 86,
   "metadata": {},
   "outputs": [],
   "source": [
    "import sbmlcore, pandas, numpy, copy\n",
    "import itertools\n",
    "\n",
    "pandas.options.display.max_columns=999\n",
    "pandas.options.display.max_rows=150"
   ]
  },
  {
   "attachments": {},
   "cell_type": "markdown",
   "metadata": {},
   "source": [
    "## Read in three catalogues of mutations with assigned phenotypic effects"
   ]
  },
  {
   "cell_type": "code",
   "execution_count": 87,
   "metadata": {},
   "outputs": [],
   "source": [
    "filestem = 'data/ds-traintest'\n",
    "\n",
    "definite_sample_dfs = {}\n",
    "definite_sample_sets = {}\n",
    "definite_sample_csvs=[]\n",
    "\n",
    "definite_sample_csvs.append('yadon')\n",
    "definite_sample_csvs.append('who')\n",
    "definite_sample_csvs.append('nejm')\n",
    "\n",
    "definite_sample_dfs['yadon'] = pandas.read_csv('data/catalogues/ds-yadon2017.csv')\n",
    "definite_sample_dfs['yadon'].set_index('MUTATION', inplace=True)\n",
    "definite_sample_dfs['yadon'].rename(columns={'YADON_RESULT':'YADON_PHENOTYPE'}, inplace=True)\n",
    "definite_sample_sets['yadon'] = set(definite_sample_dfs['yadon'].index)\n",
    "\n",
    "definite_sample_dfs['who'] = pandas.read_csv('data/catalogues/ds-who2021.csv')\n",
    "definite_sample_dfs['who'].set_index('MUTATION', inplace=True)\n",
    "definite_sample_dfs['who'].rename(columns={'PREDICTION':'WHO_PHENOTYPE'}, inplace=True)\n",
    "definite_sample_sets['who'] = set(definite_sample_dfs['who'].index)\n",
    "\n",
    "definite_sample_dfs['nejm'] = pandas.read_csv('data/catalogues/ds-nejm2018.csv')\n",
    "definite_sample_dfs['nejm'].set_index('MUTATION', inplace=True)\n",
    "definite_sample_dfs['nejm'].rename(columns={'PREDICTION':'NEJM_PHENOTYPE'}, inplace=True)\n",
    "definite_sample_sets['nejm'] = set(definite_sample_dfs['nejm'].index)"
   ]
  },
  {
   "cell_type": "code",
   "execution_count": 88,
   "metadata": {},
   "outputs": [
    {
     "name": "stdout",
     "output_type": "stream",
     "text": [
      "The yadon dataset contains 781 samples of which 351 are resistant and 430 susceptible.\n",
      "The who dataset contains 342 samples of which 326 are resistant and 16 susceptible.\n",
      "The nejm dataset contains 437 samples of which 398 are resistant and 39 susceptible.\n"
     ]
    }
   ],
   "source": [
    "df_set = {}\n",
    "for dataset in ['yadon', 'who', 'nejm']:\n",
    "\n",
    "    df = definite_sample_dfs[dataset]\n",
    "    n_total = len(df)\n",
    "    n_r = df[dataset.upper() + '_PHENOTYPE'].value_counts(dropna=False).R\n",
    "    n_s = df[dataset.upper() + '_PHENOTYPE'].value_counts(dropna=False).S\n",
    "    df_set[dataset] = set(df.index)\n",
    "\n",
    "    print(\"The %s dataset contains %i samples of which %i are resistant and %i susceptible.\" % (dataset, n_total, n_r, n_s))"
   ]
  },
  {
   "cell_type": "code",
   "execution_count": 89,
   "metadata": {},
   "outputs": [
    {
     "name": "stdout",
     "output_type": "stream",
     "text": [
      "117 samples occured in all three datasets\n",
      "4 samples occured in yadon and who but not nejm\n",
      "242 samples occured in yadon and nejm but not who\n",
      "31 samples occured in nejm and who but not yadon\n",
      "418 samples occured in yadon and not in either of who and nejm\n",
      "190 samples occured in who and not in either of yadon and nejm\n",
      "47 samples occured in nejm and not in either of who and yadon\n",
      "Overall there were 1049 samples\n"
     ]
    }
   ],
   "source": [
    "total = 0\n",
    "n = len(df_set['yadon'] & df_set['who'] & df_set['nejm'])\n",
    "total += n\n",
    "print(\"%i samples occured in all three datasets\" % n)\n",
    "\n",
    "n = len(df_set['yadon'] & df_set['who'] - df_set['nejm'])\n",
    "total += n\n",
    "print(\"%i samples occured in yadon and who but not nejm\" % n)\n",
    "\n",
    "n = len(df_set['yadon'] & df_set['nejm'] - df_set['who'])\n",
    "total += n\n",
    "print(\"%i samples occured in yadon and nejm but not who\" % n)\n",
    "\n",
    "n = len(df_set['who'] & df_set['nejm'] - df_set['yadon'])\n",
    "total += n\n",
    "print(\"%i samples occured in nejm and who but not yadon\" % n)\n",
    "\n",
    "n = len(df_set['yadon'] - df_set['who'] - df_set['nejm'])\n",
    "total += n\n",
    "print(\"%i samples occured in yadon and not in either of who and nejm\" % n)\n",
    "\n",
    "n = len(df_set['who'] - df_set['yadon'] - df_set['nejm'])\n",
    "total += n\n",
    "print(\"%i samples occured in who and not in either of yadon and nejm\" % n)\n",
    "\n",
    "n = len(df_set['nejm'] - df_set['yadon'] - df_set['who'])\n",
    "total += n\n",
    "print(\"%i samples occured in nejm and not in either of who and yadon\" % n)\n",
    "\n",
    "print(\"Overall there were %i samples\" % total)"
   ]
  },
  {
   "cell_type": "code",
   "execution_count": 90,
   "metadata": {},
   "outputs": [
    {
     "data": {
      "text/html": [
       "<div>\n",
       "<style scoped>\n",
       "    .dataframe tbody tr th:only-of-type {\n",
       "        vertical-align: middle;\n",
       "    }\n",
       "\n",
       "    .dataframe tbody tr th {\n",
       "        vertical-align: top;\n",
       "    }\n",
       "\n",
       "    .dataframe thead th {\n",
       "        text-align: right;\n",
       "    }\n",
       "</style>\n",
       "<table border=\"1\" class=\"dataframe\">\n",
       "  <thead>\n",
       "    <tr style=\"text-align: right;\">\n",
       "      <th></th>\n",
       "      <th>YADON_PHENOTYPE</th>\n",
       "      <th>WHO_PHENOTYPE</th>\n",
       "      <th>NEJM_PHENOTYPE</th>\n",
       "      <th>definite_samples_phenotype</th>\n",
       "    </tr>\n",
       "    <tr>\n",
       "      <th>MUTATION</th>\n",
       "      <th></th>\n",
       "      <th></th>\n",
       "      <th></th>\n",
       "      <th></th>\n",
       "    </tr>\n",
       "  </thead>\n",
       "  <tbody>\n",
       "    <tr>\n",
       "      <th>!187W</th>\n",
       "      <td>S</td>\n",
       "      <td>NaN</td>\n",
       "      <td>NaN</td>\n",
       "      <td>S</td>\n",
       "    </tr>\n",
       "    <tr>\n",
       "      <th>!187Y</th>\n",
       "      <td>S</td>\n",
       "      <td>NaN</td>\n",
       "      <td>NaN</td>\n",
       "      <td>S</td>\n",
       "    </tr>\n",
       "    <tr>\n",
       "      <th>-126_del_c</th>\n",
       "      <td>NaN</td>\n",
       "      <td>S</td>\n",
       "      <td>NaN</td>\n",
       "      <td>S</td>\n",
       "    </tr>\n",
       "  </tbody>\n",
       "</table>\n",
       "</div>"
      ],
      "text/plain": [
       "           YADON_PHENOTYPE WHO_PHENOTYPE NEJM_PHENOTYPE  \\\n",
       "MUTATION                                                  \n",
       "!187W                    S           NaN            NaN   \n",
       "!187Y                    S           NaN            NaN   \n",
       "-126_del_c             NaN             S            NaN   \n",
       "\n",
       "           definite_samples_phenotype  \n",
       "MUTATION                               \n",
       "!187W                               S  \n",
       "!187Y                               S  \n",
       "-126_del_c                          S  "
      ]
     },
     "execution_count": 90,
     "metadata": {},
     "output_type": "execute_result"
    }
   ],
   "source": [
    "DEFINITE_SAMPLES=None\n",
    "for i in definite_sample_csvs:\n",
    "    if DEFINITE_SAMPLES is None:\n",
    "        DEFINITE_SAMPLES = copy.deepcopy(definite_sample_dfs[i])\n",
    "    else:\n",
    "        DEFINITE_SAMPLES = DEFINITE_SAMPLES.join(definite_sample_dfs[i], how='outer')    \n",
    "\n",
    "number_definites = len(definite_sample_csvs)\n",
    "\n",
    "def consistent_phenotype(row):\n",
    "    yadon = row.YADON_PHENOTYPE\n",
    "    who = row.WHO_PHENOTYPE\n",
    "    nejm = row.NEJM_PHENOTYPE\n",
    "\n",
    "    if number_definites==1:\n",
    "        if use_yadon:\n",
    "            return yadon\n",
    "        elif use_who:\n",
    "            return who\n",
    "        elif use_nejm:\n",
    "            return nejm\n",
    "\n",
    "    # count how many Nones there are    \n",
    "    number_of_nones = 0\n",
    "    if isinstance(yadon, float):\n",
    "        number_of_nones+=1\n",
    "    if isinstance(who, float):\n",
    "        number_of_nones+=1\n",
    "    if isinstance(nejm, float):\n",
    "        number_of_nones+=1\n",
    "\n",
    "    # if all three are None, no result is possible\n",
    "    if number_of_nones==3:\n",
    "        return None\n",
    "\n",
    "    # there are 2 Nones so any string is the result\n",
    "    elif number_of_nones==2:\n",
    "        if isinstance(yadon,str):\n",
    "            return(yadon)\n",
    "        elif isinstance(who,str):\n",
    "            return(who)\n",
    "        elif isinstance(nejm,str):\n",
    "            return(nejm)\n",
    "\n",
    "    # there is only 1 None, so either there are two datasets, in which case check for concordance\n",
    "    elif number_of_nones==1:\n",
    "        if isinstance(yadon,float):\n",
    "            if who==nejm:\n",
    "                return who\n",
    "        elif isinstance(who,float):\n",
    "            if yadon==nejm:\n",
    "                return yadon\n",
    "        elif isinstance(nejm,float):\n",
    "            if yadon==who:\n",
    "                return yadon\n",
    "    \n",
    "    # if there are three results, only permit exact concordance\n",
    "    elif number_of_nones==0:\n",
    "        if yadon==who==nejm:\n",
    "            return yadon\n",
    "\n",
    "DEFINITE_SAMPLES['definite_samples_phenotype'] = DEFINITE_SAMPLES.apply(consistent_phenotype, axis=1)             \n",
    "DEFINITE_SAMPLES[:3]\n"
   ]
  },
  {
   "cell_type": "code",
   "execution_count": 91,
   "metadata": {},
   "outputs": [
    {
     "data": {
      "text/plain": [
       "R       577\n",
       "S       452\n",
       "None     20\n",
       "Name: definite_samples_phenotype, dtype: int64"
      ]
     },
     "execution_count": 91,
     "metadata": {},
     "output_type": "execute_result"
    }
   ],
   "source": [
    "DEFINITE_SAMPLES.definite_samples_phenotype.value_counts(dropna=False)"
   ]
  },
  {
   "cell_type": "code",
   "execution_count": 92,
   "metadata": {},
   "outputs": [
    {
     "name": "stderr",
     "output_type": "stream",
     "text": [
      "/var/folders/84/9nb2gsqj4hlcxztvwf19wg680000gq/T/ipykernel_11205/2408610305.py:2: SettingWithCopyWarning: \n",
      "A value is trying to be set on a copy of a slice from a DataFrame\n",
      "\n",
      "See the caveats in the documentation: https://pandas.pydata.org/pandas-docs/stable/user_guide/indexing.html#returning-a-view-versus-a-copy\n",
      "  DATASET.rename(columns={'definite_samples_phenotype':'CONSISTENT_PHENOTYPE'}, inplace=True)\n"
     ]
    },
    {
     "data": {
      "text/plain": [
       "R       577\n",
       "S       452\n",
       "None     20\n",
       "Name: CONSISTENT_PHENOTYPE, dtype: int64"
      ]
     },
     "execution_count": 92,
     "metadata": {},
     "output_type": "execute_result"
    }
   ],
   "source": [
    "DATASET = DEFINITE_SAMPLES[['definite_samples_phenotype']]\n",
    "DATASET.rename(columns={'definite_samples_phenotype':'CONSISTENT_PHENOTYPE'}, inplace=True)\n",
    "DATASET.CONSISTENT_PHENOTYPE.value_counts(dropna=False)"
   ]
  },
  {
   "cell_type": "code",
   "execution_count": 93,
   "metadata": {},
   "outputs": [],
   "source": [
    "DATASET=DATASET[DATASET.CONSISTENT_PHENOTYPE.notna()]"
   ]
  },
  {
   "cell_type": "code",
   "execution_count": 94,
   "metadata": {},
   "outputs": [
    {
     "data": {
      "text/html": [
       "<div>\n",
       "<style scoped>\n",
       "    .dataframe tbody tr th:only-of-type {\n",
       "        vertical-align: middle;\n",
       "    }\n",
       "\n",
       "    .dataframe tbody tr th {\n",
       "        vertical-align: top;\n",
       "    }\n",
       "\n",
       "    .dataframe thead th {\n",
       "        text-align: right;\n",
       "    }\n",
       "</style>\n",
       "<table border=\"1\" class=\"dataframe\">\n",
       "  <thead>\n",
       "    <tr style=\"text-align: right;\">\n",
       "      <th></th>\n",
       "      <th>CONSISTENT_PHENOTYPE</th>\n",
       "      <th>IN_CDS</th>\n",
       "      <th>IS_SNP</th>\n",
       "      <th>IS_NONSYN</th>\n",
       "      <th>IS_MISSENSE</th>\n",
       "    </tr>\n",
       "    <tr>\n",
       "      <th>MUTATION</th>\n",
       "      <th></th>\n",
       "      <th></th>\n",
       "      <th></th>\n",
       "      <th></th>\n",
       "      <th></th>\n",
       "    </tr>\n",
       "  </thead>\n",
       "  <tbody>\n",
       "    <tr>\n",
       "      <th>!187W</th>\n",
       "      <td>S</td>\n",
       "      <td>True</td>\n",
       "      <td>True</td>\n",
       "      <td>True</td>\n",
       "      <td>True</td>\n",
       "    </tr>\n",
       "    <tr>\n",
       "      <th>!187Y</th>\n",
       "      <td>S</td>\n",
       "      <td>True</td>\n",
       "      <td>True</td>\n",
       "      <td>True</td>\n",
       "      <td>True</td>\n",
       "    </tr>\n",
       "    <tr>\n",
       "      <th>-126_del_c</th>\n",
       "      <td>S</td>\n",
       "      <td>False</td>\n",
       "      <td>False</td>\n",
       "      <td>False</td>\n",
       "      <td>False</td>\n",
       "    </tr>\n",
       "  </tbody>\n",
       "</table>\n",
       "</div>"
      ],
      "text/plain": [
       "           CONSISTENT_PHENOTYPE  IN_CDS  IS_SNP  IS_NONSYN  IS_MISSENSE\n",
       "MUTATION                                                               \n",
       "!187W                         S    True    True       True         True\n",
       "!187Y                         S    True    True       True         True\n",
       "-126_del_c                    S   False   False      False        False"
      ]
     },
     "execution_count": 94,
     "metadata": {},
     "output_type": "execute_result"
    }
   ],
   "source": [
    "def classify(row):\n",
    "    is_cds=False\n",
    "    is_snp=False\n",
    "    is_nonsyn=False\n",
    "    is_missense=False\n",
    "    if '-' not in row.MUTATION:\n",
    "        is_cds=True\n",
    "        cols = row.MUTATION.split('_')\n",
    "        if len(cols)!=3 and 'indel' not in row.MUTATION:\n",
    "            is_snp=True\n",
    "            if row.MUTATION[0]!=row.MUTATION[-1]:\n",
    "                is_nonsyn=True\n",
    "                if row.MUTATION[-1]!='!':\n",
    "                    is_missense=True\n",
    "    \n",
    "    return pandas.Series([is_cds,is_snp,is_nonsyn,is_missense])    \n",
    "\n",
    "\n",
    "DATASET.reset_index(inplace=True)\n",
    "DATASET[['IN_CDS', 'IS_SNP', 'IS_NONSYN', 'IS_MISSENSE']] = DATASET.apply(classify, axis=1)\n",
    "DATASET.set_index('MUTATION',inplace=True)\n",
    "DATASET[:3]"
   ]
  },
  {
   "cell_type": "code",
   "execution_count": 95,
   "metadata": {},
   "outputs": [
    {
     "data": {
      "text/html": [
       "<div>\n",
       "<style scoped>\n",
       "    .dataframe tbody tr th:only-of-type {\n",
       "        vertical-align: middle;\n",
       "    }\n",
       "\n",
       "    .dataframe tbody tr th {\n",
       "        vertical-align: top;\n",
       "    }\n",
       "\n",
       "    .dataframe thead th {\n",
       "        text-align: right;\n",
       "    }\n",
       "</style>\n",
       "<table border=\"1\" class=\"dataframe\">\n",
       "  <thead>\n",
       "    <tr style=\"text-align: right;\">\n",
       "      <th></th>\n",
       "      <th>CONSISTENT_PHENOTYPE</th>\n",
       "      <th>IN_CDS</th>\n",
       "      <th>IS_SNP</th>\n",
       "      <th>IS_NONSYN</th>\n",
       "      <th>IS_MISSENSE</th>\n",
       "    </tr>\n",
       "    <tr>\n",
       "      <th>MUTATION</th>\n",
       "      <th></th>\n",
       "      <th></th>\n",
       "      <th></th>\n",
       "      <th></th>\n",
       "      <th></th>\n",
       "    </tr>\n",
       "  </thead>\n",
       "  <tbody>\n",
       "    <tr>\n",
       "      <th>!187W</th>\n",
       "      <td>S</td>\n",
       "      <td>True</td>\n",
       "      <td>True</td>\n",
       "      <td>True</td>\n",
       "      <td>True</td>\n",
       "    </tr>\n",
       "    <tr>\n",
       "      <th>!187Y</th>\n",
       "      <td>S</td>\n",
       "      <td>True</td>\n",
       "      <td>True</td>\n",
       "      <td>True</td>\n",
       "      <td>True</td>\n",
       "    </tr>\n",
       "    <tr>\n",
       "      <th>A102V</th>\n",
       "      <td>S</td>\n",
       "      <td>True</td>\n",
       "      <td>True</td>\n",
       "      <td>True</td>\n",
       "      <td>True</td>\n",
       "    </tr>\n",
       "    <tr>\n",
       "      <th>A134D</th>\n",
       "      <td>S</td>\n",
       "      <td>True</td>\n",
       "      <td>True</td>\n",
       "      <td>True</td>\n",
       "      <td>True</td>\n",
       "    </tr>\n",
       "    <tr>\n",
       "      <th>A134P</th>\n",
       "      <td>R</td>\n",
       "      <td>True</td>\n",
       "      <td>True</td>\n",
       "      <td>True</td>\n",
       "      <td>True</td>\n",
       "    </tr>\n",
       "    <tr>\n",
       "      <th>...</th>\n",
       "      <td>...</td>\n",
       "      <td>...</td>\n",
       "      <td>...</td>\n",
       "      <td>...</td>\n",
       "      <td>...</td>\n",
       "    </tr>\n",
       "    <tr>\n",
       "      <th>Y95N</th>\n",
       "      <td>S</td>\n",
       "      <td>True</td>\n",
       "      <td>True</td>\n",
       "      <td>True</td>\n",
       "      <td>True</td>\n",
       "    </tr>\n",
       "    <tr>\n",
       "      <th>Y99C</th>\n",
       "      <td>S</td>\n",
       "      <td>True</td>\n",
       "      <td>True</td>\n",
       "      <td>True</td>\n",
       "      <td>True</td>\n",
       "    </tr>\n",
       "    <tr>\n",
       "      <th>Y99D</th>\n",
       "      <td>S</td>\n",
       "      <td>True</td>\n",
       "      <td>True</td>\n",
       "      <td>True</td>\n",
       "      <td>True</td>\n",
       "    </tr>\n",
       "    <tr>\n",
       "      <th>Y99F</th>\n",
       "      <td>S</td>\n",
       "      <td>True</td>\n",
       "      <td>True</td>\n",
       "      <td>True</td>\n",
       "      <td>True</td>\n",
       "    </tr>\n",
       "    <tr>\n",
       "      <th>Y99N</th>\n",
       "      <td>S</td>\n",
       "      <td>True</td>\n",
       "      <td>True</td>\n",
       "      <td>True</td>\n",
       "      <td>True</td>\n",
       "    </tr>\n",
       "  </tbody>\n",
       "</table>\n",
       "<p>668 rows × 5 columns</p>\n",
       "</div>"
      ],
      "text/plain": [
       "         CONSISTENT_PHENOTYPE  IN_CDS  IS_SNP  IS_NONSYN  IS_MISSENSE\n",
       "MUTATION                                                             \n",
       "!187W                       S    True    True       True         True\n",
       "!187Y                       S    True    True       True         True\n",
       "A102V                       S    True    True       True         True\n",
       "A134D                       S    True    True       True         True\n",
       "A134P                       R    True    True       True         True\n",
       "...                       ...     ...     ...        ...          ...\n",
       "Y95N                        S    True    True       True         True\n",
       "Y99C                        S    True    True       True         True\n",
       "Y99D                        S    True    True       True         True\n",
       "Y99F                        S    True    True       True         True\n",
       "Y99N                        S    True    True       True         True\n",
       "\n",
       "[668 rows x 5 columns]"
      ]
     },
     "execution_count": 95,
     "metadata": {},
     "output_type": "execute_result"
    }
   ],
   "source": [
    "DATASET[DATASET.IN_CDS & DATASET.IS_SNP & DATASET.IS_NONSYN & DATASET.IS_MISSENSE]"
   ]
  },
  {
   "cell_type": "code",
   "execution_count": 96,
   "metadata": {},
   "outputs": [
    {
     "data": {
      "text/plain": [
       "R    577\n",
       "S    452\n",
       "Name: CONSISTENT_PHENOTYPE, dtype: int64"
      ]
     },
     "execution_count": 96,
     "metadata": {},
     "output_type": "execute_result"
    }
   ],
   "source": [
    "DATASET.CONSISTENT_PHENOTYPE.value_counts(dropna=False)"
   ]
  },
  {
   "cell_type": "code",
   "execution_count": 97,
   "metadata": {},
   "outputs": [
    {
     "data": {
      "text/plain": [
       "R    349\n",
       "S    315\n",
       "Name: CONSISTENT_PHENOTYPE, dtype: int64"
      ]
     },
     "execution_count": 97,
     "metadata": {},
     "output_type": "execute_result"
    }
   ],
   "source": [
    "DATASET.reset_index(inplace=True)\n",
    "\n",
    "def valid_for_structure(row):\n",
    "    if row.IN_CDS and row.IS_SNP and row.IS_NONSYN and row.IS_MISSENSE:\n",
    "        if \"!\" in row.MUTATION:\n",
    "            return False\n",
    "        elif '186' in row.MUTATION:\n",
    "            return False\n",
    "        else:\n",
    "            return True\n",
    "    else:\n",
    "        return False\n",
    "\n",
    "\n",
    "DATASET['STRUCTURALLY_VALID'] = DATASET.apply(valid_for_structure, axis=1)\n",
    "\n",
    "DATASET = DATASET[DATASET.STRUCTURALLY_VALID]\n",
    "\n",
    "DATASET.drop(columns=['STRUCTURALLY_VALID'],inplace=True)\n",
    "\n",
    "DATASET.to_csv(filestem+'-full.csv',index=False)\n",
    "\n",
    "DATASET[['MUTATION','CONSISTENT_PHENOTYPE']].to_csv(filestem+'-phen.csv',index=False)\n",
    "\n",
    "DATASET[['MUTATION']].to_csv(filestem+'-muts.csv',index=False, header=False)\n",
    "\n",
    "DATASET['SEGID']='A'\n",
    "DATASET[['SEGID','MUTATION']].to_csv(filestem+'-semu.csv',index=False, header=False, sep=' ')\n",
    "\n",
    "DATASET.CONSISTENT_PHENOTYPE.value_counts(dropna=False)"
   ]
  },
  {
   "cell_type": "code",
   "execution_count": null,
   "metadata": {},
   "outputs": [],
   "source": []
  }
 ],
 "metadata": {
  "kernelspec": {
   "display_name": "Python 3",
   "language": "python",
   "name": "python3"
  },
  "language_info": {
   "codemirror_mode": {
    "name": "ipython",
    "version": 3
   },
   "file_extension": ".py",
   "mimetype": "text/x-python",
   "name": "python",
   "nbconvert_exporter": "python",
   "pygments_lexer": "ipython3",
   "version": "3.10.9"
  },
  "orig_nbformat": 4,
  "vscode": {
   "interpreter": {
    "hash": "7a792fcb311f9eb9f3c1b942a8c87ada8484712b89b670347c16a1088e0a1f69"
   }
  }
 },
 "nbformat": 4,
 "nbformat_minor": 2
}
