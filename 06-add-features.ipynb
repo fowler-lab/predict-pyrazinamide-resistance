{
 "cells": [
  {
   "cell_type": "code",
   "execution_count": 41,
   "metadata": {},
   "outputs": [],
   "source": [
    "import pandas\n",
    "pandas.options.display.max_columns=999\n",
    "\n",
    "import sbmlcore"
   ]
  },
  {
   "attachments": {},
   "cell_type": "markdown",
   "metadata": {},
   "source": [
    "## Adding features\n",
    "\n",
    "Because this is a notebook for ease of use but it has to run separately for each dataset, one has to set the `filestem` flag to each of `'traintest'`,`'validation-samples'`, `'validation-mutations'`,or `'mic'` and run the notebook each time."
   ]
  },
  {
   "cell_type": "code",
   "execution_count": 42,
   "metadata": {},
   "outputs": [],
   "source": [
    "filestem = 'validation-mutations'\n",
    "\n",
    "assert filestem in ['traintest', 'validation-samples', 'validation-mutations', 'mic', 'all'], \"dataset doesn't exist!\""
   ]
  },
  {
   "cell_type": "code",
   "execution_count": 43,
   "metadata": {},
   "outputs": [
    {
     "data": {
      "text/html": [
       "<div>\n",
       "<style scoped>\n",
       "    .dataframe tbody tr th:only-of-type {\n",
       "        vertical-align: middle;\n",
       "    }\n",
       "\n",
       "    .dataframe tbody tr th {\n",
       "        vertical-align: top;\n",
       "    }\n",
       "\n",
       "    .dataframe thead th {\n",
       "        text-align: right;\n",
       "    }\n",
       "</style>\n",
       "<table border=\"1\" class=\"dataframe\">\n",
       "  <thead>\n",
       "    <tr style=\"text-align: right;\">\n",
       "      <th></th>\n",
       "      <th>mutation</th>\n",
       "      <th>phenotype</th>\n",
       "    </tr>\n",
       "  </thead>\n",
       "  <tbody>\n",
       "    <tr>\n",
       "      <th>0</th>\n",
       "      <td>A102R</td>\n",
       "      <td>S</td>\n",
       "    </tr>\n",
       "    <tr>\n",
       "      <th>1</th>\n",
       "      <td>A102T</td>\n",
       "      <td>R</td>\n",
       "    </tr>\n",
       "    <tr>\n",
       "      <th>2</th>\n",
       "      <td>A134V</td>\n",
       "      <td>R</td>\n",
       "    </tr>\n",
       "  </tbody>\n",
       "</table>\n",
       "</div>"
      ],
      "text/plain": [
       "  mutation phenotype\n",
       "0    A102R         S\n",
       "1    A102T         R\n",
       "2    A134V         R"
      ]
     },
     "execution_count": 43,
     "metadata": {},
     "output_type": "execute_result"
    }
   ],
   "source": [
    "df2 = pandas.read_csv('data/ds-' + filestem+'-phen.csv')\n",
    "if 'CONSISTENT_PHENOTYPE' in df2.columns:\n",
    "    df2.rename(columns={'MUTATION':'mutation', 'CONSISTENT_PHENOTYPE':'phenotype'}, inplace=True)\n",
    "else:\n",
    "    df2.rename(columns={'MUTATION':'mutation', 'PHENOTYPE':'phenotype'}, inplace=True)\n",
    "df2[:3]\n"
   ]
  },
  {
   "cell_type": "markdown",
   "metadata": {},
   "source": [
    "Instantiate a `FeatureDataset` class using `sbmlcore` and set the chain of the protein monomer"
   ]
  },
  {
   "cell_type": "code",
   "execution_count": 44,
   "metadata": {},
   "outputs": [
    {
     "data": {
      "text/html": [
       "<div>\n",
       "<style scoped>\n",
       "    .dataframe tbody tr th:only-of-type {\n",
       "        vertical-align: middle;\n",
       "    }\n",
       "\n",
       "    .dataframe tbody tr th {\n",
       "        vertical-align: top;\n",
       "    }\n",
       "\n",
       "    .dataframe thead th {\n",
       "        text-align: right;\n",
       "    }\n",
       "</style>\n",
       "<table border=\"1\" class=\"dataframe\">\n",
       "  <thead>\n",
       "    <tr style=\"text-align: right;\">\n",
       "      <th></th>\n",
       "      <th>mutation</th>\n",
       "      <th>phenotype</th>\n",
       "      <th>segid</th>\n",
       "    </tr>\n",
       "  </thead>\n",
       "  <tbody>\n",
       "    <tr>\n",
       "      <th>0</th>\n",
       "      <td>A102R</td>\n",
       "      <td>S</td>\n",
       "      <td>A</td>\n",
       "    </tr>\n",
       "    <tr>\n",
       "      <th>1</th>\n",
       "      <td>A102T</td>\n",
       "      <td>R</td>\n",
       "      <td>A</td>\n",
       "    </tr>\n",
       "    <tr>\n",
       "      <th>2</th>\n",
       "      <td>A134V</td>\n",
       "      <td>R</td>\n",
       "      <td>A</td>\n",
       "    </tr>\n",
       "  </tbody>\n",
       "</table>\n",
       "</div>"
      ],
      "text/plain": [
       "  mutation phenotype segid\n",
       "0    A102R         S     A\n",
       "1    A102T         R     A\n",
       "2    A134V         R     A"
      ]
     },
     "execution_count": 44,
     "metadata": {},
     "output_type": "execute_result"
    }
   ],
   "source": [
    "dataset = sbmlcore.FeatureDataset(df2, species='M. tuberculosis', gene='pncA')\n",
    "dataset.df['segid'] = 'A'\n",
    "dataset.df[:3]"
   ]
  },
  {
   "attachments": {},
   "cell_type": "markdown",
   "metadata": {},
   "source": [
    "### add various changes in amino acid properties"
   ]
  },
  {
   "cell_type": "code",
   "execution_count": 45,
   "metadata": {},
   "outputs": [
    {
     "data": {
      "text/html": [
       "<div>\n",
       "<style scoped>\n",
       "    .dataframe tbody tr th:only-of-type {\n",
       "        vertical-align: middle;\n",
       "    }\n",
       "\n",
       "    .dataframe tbody tr th {\n",
       "        vertical-align: top;\n",
       "    }\n",
       "\n",
       "    .dataframe thead th {\n",
       "        text-align: right;\n",
       "    }\n",
       "</style>\n",
       "<table border=\"1\" class=\"dataframe\">\n",
       "  <thead>\n",
       "    <tr style=\"text-align: right;\">\n",
       "      <th></th>\n",
       "      <th>mutation</th>\n",
       "      <th>phenotype</th>\n",
       "      <th>segid</th>\n",
       "      <th>d_volume</th>\n",
       "      <th>d_hydropathy_KD</th>\n",
       "      <th>d_Pi</th>\n",
       "      <th>d_MW</th>\n",
       "      <th>d_rogov</th>\n",
       "    </tr>\n",
       "  </thead>\n",
       "  <tbody>\n",
       "    <tr>\n",
       "      <th>0</th>\n",
       "      <td>A146E</td>\n",
       "      <td>R</td>\n",
       "      <td>A</td>\n",
       "      <td>49.8</td>\n",
       "      <td>-5.3</td>\n",
       "      <td>-2.78</td>\n",
       "      <td>58.0</td>\n",
       "      <td>-0.033</td>\n",
       "    </tr>\n",
       "    <tr>\n",
       "      <th>1</th>\n",
       "      <td>A3E</td>\n",
       "      <td>R</td>\n",
       "      <td>A</td>\n",
       "      <td>49.8</td>\n",
       "      <td>-5.3</td>\n",
       "      <td>-2.78</td>\n",
       "      <td>58.0</td>\n",
       "      <td>-0.033</td>\n",
       "    </tr>\n",
       "    <tr>\n",
       "      <th>2</th>\n",
       "      <td>A46E</td>\n",
       "      <td>R</td>\n",
       "      <td>A</td>\n",
       "      <td>49.8</td>\n",
       "      <td>-5.3</td>\n",
       "      <td>-2.78</td>\n",
       "      <td>58.0</td>\n",
       "      <td>-0.033</td>\n",
       "    </tr>\n",
       "  </tbody>\n",
       "</table>\n",
       "</div>"
      ],
      "text/plain": [
       "  mutation phenotype segid  d_volume  d_hydropathy_KD  d_Pi  d_MW  d_rogov\n",
       "0    A146E         R     A      49.8             -5.3 -2.78  58.0   -0.033\n",
       "1      A3E         R     A      49.8             -5.3 -2.78  58.0   -0.033\n",
       "2     A46E         R     A      49.8             -5.3 -2.78  58.0   -0.033"
      ]
     },
     "execution_count": 45,
     "metadata": {},
     "output_type": "execute_result"
    }
   ],
   "source": [
    "features = [sbmlcore.AminoAcidVolumeChange(), sbmlcore.AminoAcidHydropathyChangeKyteDoolittle(), sbmlcore.AminoAcidPiChange(), sbmlcore.AminoAcidMWChange(), sbmlcore.AminoAcidRogovChange()]\n",
    "dataset.add_feature(features)\n",
    "dataset.df[:3]"
   ]
  },
  {
   "attachments": {},
   "cell_type": "markdown",
   "metadata": {},
   "source": [
    "### add features measured using STRIDE\n",
    "\n",
    "Note that this needs the `stride` binary to be compiled/installed and in your `$PATH`"
   ]
  },
  {
   "cell_type": "code",
   "execution_count": 46,
   "metadata": {},
   "outputs": [
    {
     "data": {
      "text/html": [
       "<div>\n",
       "<style scoped>\n",
       "    .dataframe tbody tr th:only-of-type {\n",
       "        vertical-align: middle;\n",
       "    }\n",
       "\n",
       "    .dataframe tbody tr th {\n",
       "        vertical-align: top;\n",
       "    }\n",
       "\n",
       "    .dataframe thead th {\n",
       "        text-align: right;\n",
       "    }\n",
       "</style>\n",
       "<table border=\"1\" class=\"dataframe\">\n",
       "  <thead>\n",
       "    <tr style=\"text-align: right;\">\n",
       "      <th></th>\n",
       "      <th>segid</th>\n",
       "      <th>mutation</th>\n",
       "      <th>phenotype</th>\n",
       "      <th>d_volume</th>\n",
       "      <th>d_hydropathy_KD</th>\n",
       "      <th>d_Pi</th>\n",
       "      <th>d_MW</th>\n",
       "      <th>d_rogov</th>\n",
       "      <th>phi</th>\n",
       "      <th>psi</th>\n",
       "      <th>residue_sasa</th>\n",
       "      <th>n_hbond_acceptors</th>\n",
       "      <th>n_hbond_donors</th>\n",
       "      <th>secondary_structure_codes</th>\n",
       "    </tr>\n",
       "  </thead>\n",
       "  <tbody>\n",
       "    <tr>\n",
       "      <th>0</th>\n",
       "      <td>A</td>\n",
       "      <td>A3E</td>\n",
       "      <td>R</td>\n",
       "      <td>49.8</td>\n",
       "      <td>-5.3</td>\n",
       "      <td>-2.78</td>\n",
       "      <td>58.0</td>\n",
       "      <td>-0.033</td>\n",
       "      <td>-126.53</td>\n",
       "      <td>153.85</td>\n",
       "      <td>0.0</td>\n",
       "      <td>1.0</td>\n",
       "      <td>1.0</td>\n",
       "      <td>0</td>\n",
       "    </tr>\n",
       "    <tr>\n",
       "      <th>1</th>\n",
       "      <td>A</td>\n",
       "      <td>A30V</td>\n",
       "      <td>S</td>\n",
       "      <td>51.4</td>\n",
       "      <td>2.4</td>\n",
       "      <td>-0.04</td>\n",
       "      <td>28.0</td>\n",
       "      <td>0.232</td>\n",
       "      <td>-63.22</td>\n",
       "      <td>-36.78</td>\n",
       "      <td>38.4</td>\n",
       "      <td>1.0</td>\n",
       "      <td>1.0</td>\n",
       "      <td>1</td>\n",
       "    </tr>\n",
       "    <tr>\n",
       "      <th>2</th>\n",
       "      <td>A</td>\n",
       "      <td>A46E</td>\n",
       "      <td>R</td>\n",
       "      <td>49.8</td>\n",
       "      <td>-5.3</td>\n",
       "      <td>-2.78</td>\n",
       "      <td>58.0</td>\n",
       "      <td>-0.033</td>\n",
       "      <td>-131.54</td>\n",
       "      <td>158.71</td>\n",
       "      <td>0.0</td>\n",
       "      <td>1.0</td>\n",
       "      <td>1.0</td>\n",
       "      <td>0</td>\n",
       "    </tr>\n",
       "  </tbody>\n",
       "</table>\n",
       "</div>"
      ],
      "text/plain": [
       "  segid mutation phenotype  d_volume  d_hydropathy_KD  d_Pi  d_MW  d_rogov  \\\n",
       "0     A      A3E         R      49.8             -5.3 -2.78  58.0   -0.033   \n",
       "1     A     A30V         S      51.4              2.4 -0.04  28.0    0.232   \n",
       "2     A     A46E         R      49.8             -5.3 -2.78  58.0   -0.033   \n",
       "\n",
       "      phi     psi  residue_sasa  n_hbond_acceptors  n_hbond_donors  \\\n",
       "0 -126.53  153.85           0.0                1.0             1.0   \n",
       "1  -63.22  -36.78          38.4                1.0             1.0   \n",
       "2 -131.54  158.71           0.0                1.0             1.0   \n",
       "\n",
       "   secondary_structure_codes  \n",
       "0                          0  \n",
       "1                          1  \n",
       "2                          0  "
      ]
     },
     "execution_count": 46,
     "metadata": {},
     "output_type": "execute_result"
    }
   ],
   "source": [
    "dataset = dataset + sbmlcore.Stride('./data/reference/3PL1-PZA.pdb')\n",
    "dataset.df['secondary_structure_codes'] = pandas.Categorical(dataset.df.secondary_structure, categories=dataset.df.secondary_structure.unique()).codes\n",
    "dataset.df.drop(columns=['secondary_structure', 'secondary_structure_long', 'B', 'C', 'E', 'G', 'H', 'T'], inplace=True)\n",
    "dataset.df[:3]"
   ]
  },
  {
   "cell_type": "markdown",
   "metadata": {},
   "source": [
    "Add the temperature ('Beta') factors from the PDB file"
   ]
  },
  {
   "cell_type": "code",
   "execution_count": 47,
   "metadata": {},
   "outputs": [
    {
     "name": "stderr",
     "output_type": "stream",
     "text": [
      "/Users/fowler/Library/Python/3.11/lib/python/site-packages/MDAnalysis/topology/PDBParser.py:348: UserWarning: Unknown element  found for some atoms. These have been given an empty element record. If needed they can be guessed using MDAnalysis.topology.guessers.\n",
      "  warnings.warn(wmsg)\n",
      "/Users/fowler/Library/Python/3.11/lib/python/site-packages/MDAnalysis/topology/guessers.py:146: UserWarning: Failed to guess the mass for the following atom types: \n",
      "  warnings.warn(\"Failed to guess the mass for the following atom types: {}\".format(atom_type))\n"
     ]
    },
    {
     "data": {
      "text/plain": [
       "<Axes: >"
      ]
     },
     "execution_count": 47,
     "metadata": {},
     "output_type": "execute_result"
    },
    {
     "data": {
      "image/png": "[encoded data removed]",
      "text/plain": [
       "<Figure size 640x480 with 1 Axes>"
      ]
     },
     "metadata": {},
     "output_type": "display_data"
    }
   ],
   "source": [
    "dataset = dataset + sbmlcore.TempFactors('data/reference/3PL1-PZA.pdb')\n",
    "dataset.df.temp_factor.hist()"
   ]
  },
  {
   "attachments": {},
   "cell_type": "markdown",
   "metadata": {},
   "source": [
    "### add residue depth as measured by BioPython"
   ]
  },
  {
   "cell_type": "code",
   "execution_count": 48,
   "metadata": {},
   "outputs": [
    {
     "name": "stderr",
     "output_type": "stream",
     "text": [
      "/Users/fowler/Library/Python/3.11/lib/python/site-packages/Bio/PDB/Atom.py:232: PDBConstructionWarning: Used element 'C' for Atom (name=C6) with given element ''\n",
      "  warnings.warn(msg, PDBConstructionWarning)\n",
      "/Users/fowler/Library/Python/3.11/lib/python/site-packages/Bio/PDB/Atom.py:232: PDBConstructionWarning: Used element 'H' for Atom (name=H6) with given element ''\n",
      "  warnings.warn(msg, PDBConstructionWarning)\n",
      "/Users/fowler/Library/Python/3.11/lib/python/site-packages/Bio/PDB/Atom.py:232: PDBConstructionWarning: Used element 'N' for Atom (name=N5) with given element ''\n",
      "  warnings.warn(msg, PDBConstructionWarning)\n",
      "/Users/fowler/Library/Python/3.11/lib/python/site-packages/Bio/PDB/Atom.py:232: PDBConstructionWarning: Used element 'C' for Atom (name=C4) with given element ''\n",
      "  warnings.warn(msg, PDBConstructionWarning)\n",
      "/Users/fowler/Library/Python/3.11/lib/python/site-packages/Bio/PDB/Atom.py:232: PDBConstructionWarning: Used element 'H' for Atom (name=H4) with given element ''\n",
      "  warnings.warn(msg, PDBConstructionWarning)\n",
      "/Users/fowler/Library/Python/3.11/lib/python/site-packages/Bio/PDB/Atom.py:232: PDBConstructionWarning: Used element 'C' for Atom (name=C3) with given element ''\n",
      "  warnings.warn(msg, PDBConstructionWarning)\n",
      "/Users/fowler/Library/Python/3.11/lib/python/site-packages/Bio/PDB/Atom.py:232: PDBConstructionWarning: Used element 'H' for Atom (name=H3) with given element ''\n",
      "  warnings.warn(msg, PDBConstructionWarning)\n",
      "/Users/fowler/Library/Python/3.11/lib/python/site-packages/Bio/PDB/Atom.py:232: PDBConstructionWarning: Used element 'N' for Atom (name=N2) with given element ''\n",
      "  warnings.warn(msg, PDBConstructionWarning)\n",
      "/Users/fowler/Library/Python/3.11/lib/python/site-packages/Bio/PDB/Atom.py:232: PDBConstructionWarning: Used element 'C' for Atom (name=C1) with given element ''\n",
      "  warnings.warn(msg, PDBConstructionWarning)\n",
      "/Users/fowler/Library/Python/3.11/lib/python/site-packages/Bio/PDB/Atom.py:232: PDBConstructionWarning: Used element 'C' for Atom (name=C2) with given element ''\n",
      "  warnings.warn(msg, PDBConstructionWarning)\n",
      "/Users/fowler/Library/Python/3.11/lib/python/site-packages/Bio/PDB/Atom.py:232: PDBConstructionWarning: Used element 'O' for Atom (name=O2) with given element ''\n",
      "  warnings.warn(msg, PDBConstructionWarning)\n",
      "/Users/fowler/Library/Python/3.11/lib/python/site-packages/Bio/PDB/Atom.py:232: PDBConstructionWarning: Used element 'N' for Atom (name=N1) with given element ''\n",
      "  warnings.warn(msg, PDBConstructionWarning)\n",
      "/Users/fowler/Library/Python/3.11/lib/python/site-packages/Bio/PDB/Atom.py:232: PDBConstructionWarning: Used element 'H' for Atom (name=H12) with given element ''\n",
      "  warnings.warn(msg, PDBConstructionWarning)\n",
      "/Users/fowler/Library/Python/3.11/lib/python/site-packages/Bio/PDB/Atom.py:232: PDBConstructionWarning: Used element 'H' for Atom (name=H11) with given element ''\n",
      "  warnings.warn(msg, PDBConstructionWarning)\n",
      "/Users/fowler/Library/Python/3.11/lib/python/site-packages/Bio/PDB/PDBParser.py:395: PDBConstructionWarning: Ignoring unrecognized record 'TER' at line 1389\n",
      "  warnings.warn(\n"
     ]
    },
    {
     "data": {
      "text/plain": [
       "<Axes: >"
      ]
     },
     "execution_count": 48,
     "metadata": {},
     "output_type": "execute_result"
    },
    {
     "data": {
      "image/png": "[encoded data removed]",
      "text/plain": [
       "<Figure size 640x480 with 1 Axes>"
      ]
     },
     "metadata": {},
     "output_type": "display_data"
    }
   ],
   "source": [
    "dataset = dataset + sbmlcore.ResidueDepth('data/reference/3PL1-PZA.pdb', segids=['A'])\n",
    "dataset.df.depth.hist()"
   ]
  },
  {
   "attachments": {},
   "cell_type": "markdown",
   "metadata": {},
   "source": [
    "### add effect on protein stability as estimated by DeepDDG\n",
    "\n",
    "Most mutations are predicted to be destabilising as expected"
   ]
  },
  {
   "cell_type": "code",
   "execution_count": 49,
   "metadata": {},
   "outputs": [
    {
     "data": {
      "text/plain": [
       "<Axes: >"
      ]
     },
     "execution_count": 49,
     "metadata": {},
     "output_type": "execute_result"
    },
    {
     "data": {
      "image/png": "[encoded data removed]",
      "text/plain": [
       "<Figure size 640x480 with 1 Axes>"
      ]
     },
     "metadata": {},
     "output_type": "display_data"
    }
   ],
   "source": [
    "dataset = dataset + sbmlcore.DeepDDG('./data/features/3pl1.ddg')\n",
    "dataset.df.deep_ddG.fillna(value=0, inplace=True)\n",
    "dataset.df.deep_ddG.hist()"
   ]
  },
  {
   "attachments": {},
   "cell_type": "markdown",
   "metadata": {},
   "source": [
    "### add effect on protein stability estimated by RaSP"
   ]
  },
  {
   "cell_type": "code",
   "execution_count": 50,
   "metadata": {},
   "outputs": [
    {
     "data": {
      "text/plain": [
       "<Axes: >"
      ]
     },
     "execution_count": 50,
     "metadata": {},
     "output_type": "execute_result"
    },
    {
     "data": {
      "image/png": "[encoded data removed]",
      "text/plain": [
       "<Figure size 640x480 with 1 Axes>"
      ]
     },
     "metadata": {},
     "output_type": "display_data"
    }
   ],
   "source": [
    "dataset = dataset + sbmlcore.RaSP('data/features/cavity_pred_3PL1_A.csv')\n",
    "dataset.df.drop(columns=['rasp_score_ml_fermi', 'rasp_wt_nlf', 'rasp_mt_nlf'], inplace=True)\n",
    "dataset.df.rasp_score_ml.hist()"
   ]
  },
  {
   "attachments": {},
   "cell_type": "markdown",
   "metadata": {},
   "source": [
    "## add `SNAP2` score\n",
    "\n",
    "`SNAP2` scores range from -100 (neutral) to 100 (large effect)"
   ]
  },
  {
   "cell_type": "code",
   "execution_count": 51,
   "metadata": {},
   "outputs": [
    {
     "data": {
      "text/plain": [
       "<Axes: >"
      ]
     },
     "execution_count": 51,
     "metadata": {},
     "output_type": "execute_result"
    },
    {
     "data": {
      "image/png": "[encoded data removed]",
      "text/plain": [
       "<Figure size 640x480 with 1 Axes>"
      ]
     },
     "metadata": {},
     "output_type": "display_data"
    }
   ],
   "source": [
    "dataset = dataset + sbmlcore.SNAP2('./data/features/3pl1-snap2-with-segids.csv', offsets={'A': 0})\n",
    "dataset.df.drop(columns=['snap2_accuracy'], inplace=True)\n",
    "dataset.df.snap2_score.hist()"
   ]
  },
  {
   "attachments": {},
   "cell_type": "markdown",
   "metadata": {},
   "source": [
    "### add distance from the catalytic Iron \n",
    "\n",
    "Note you need to know the `MDAnalysis` atom selection language and how the Iron is identified in the PDB file"
   ]
  },
  {
   "cell_type": "code",
   "execution_count": 52,
   "metadata": {},
   "outputs": [
    {
     "name": "stderr",
     "output_type": "stream",
     "text": [
      "/Users/fowler/Library/Python/3.11/lib/python/site-packages/MDAnalysis/topology/PDBParser.py:348: UserWarning: Unknown element  found for some atoms. These have been given an empty element record. If needed they can be guessed using MDAnalysis.topology.guessers.\n",
      "  warnings.warn(wmsg)\n",
      "/Users/fowler/Library/Python/3.11/lib/python/site-packages/MDAnalysis/topology/guessers.py:146: UserWarning: Failed to guess the mass for the following atom types: \n",
      "  warnings.warn(\"Failed to guess the mass for the following atom types: {}\".format(atom_type))\n"
     ]
    },
    {
     "data": {
      "text/plain": [
       "<Axes: >"
      ]
     },
     "execution_count": 52,
     "metadata": {},
     "output_type": "execute_result"
    },
    {
     "data": {
      "image/png": "[encoded data removed]",
      "text/plain": [
       "<Figure size 640x480 with 1 Axes>"
      ]
     },
     "metadata": {},
     "output_type": "display_data"
    }
   ],
   "source": [
    "dataset = dataset + sbmlcore.StructuralDistances('data/reference/3PL1-PZA.pdb', 'resname FE2', 'dist_FE2')\n",
    "dataset.df.dist_FE2.hist()"
   ]
  },
  {
   "attachments": {},
   "cell_type": "markdown",
   "metadata": {},
   "source": [
    "### add distance from the bound pyrazinamide"
   ]
  },
  {
   "cell_type": "code",
   "execution_count": 53,
   "metadata": {},
   "outputs": [
    {
     "name": "stderr",
     "output_type": "stream",
     "text": [
      "/Users/fowler/Library/Python/3.11/lib/python/site-packages/MDAnalysis/topology/PDBParser.py:348: UserWarning: Unknown element  found for some atoms. These have been given an empty element record. If needed they can be guessed using MDAnalysis.topology.guessers.\n",
      "  warnings.warn(wmsg)\n",
      "/Users/fowler/Library/Python/3.11/lib/python/site-packages/MDAnalysis/topology/guessers.py:146: UserWarning: Failed to guess the mass for the following atom types: \n",
      "  warnings.warn(\"Failed to guess the mass for the following atom types: {}\".format(atom_type))\n"
     ]
    },
    {
     "data": {
      "text/plain": [
       "<Axes: >"
      ]
     },
     "execution_count": 53,
     "metadata": {},
     "output_type": "execute_result"
    },
    {
     "data": {
      "image/png": "[encoded data removed]",
      "text/plain": [
       "<Figure size 640x480 with 1 Axes>"
      ]
     },
     "metadata": {},
     "output_type": "display_data"
    }
   ],
   "source": [
    "dataset = dataset + sbmlcore.StructuralDistances('data/reference/3PL1-PZA.pdb', 'resname PZA', 'dist_PZA', infer_masses=False)\n",
    "dataset.df.dist_PZA.hist()"
   ]
  },
  {
   "attachments": {},
   "cell_type": "markdown",
   "metadata": {},
   "source": [
    "### add mCSM predicted stability scores"
   ]
  },
  {
   "cell_type": "code",
   "execution_count": 54,
   "metadata": {},
   "outputs": [
    {
     "data": {
      "text/plain": [
       "<Axes: >"
      ]
     },
     "execution_count": 54,
     "metadata": {},
     "output_type": "execute_result"
    },
    {
     "data": {
      "image/png": "[encoded data removed]",
      "text/plain": [
       "<Figure size 640x480 with 1 Axes>"
      ]
     },
     "metadata": {},
     "output_type": "display_data"
    }
   ],
   "source": [
    " # add mCSM stability\n",
    "df = pandas.read_csv('data/features/3pl1-mcsm_stability.txt', sep='\\t')\n",
    "\n",
    "def create_mutation(row):\n",
    "    return row['WILD_RES']+str(row.RES_POS)+row['MUT_RES']\n",
    "\n",
    "df['mutation'] = df.apply(create_mutation, axis=1)\n",
    "df = df[['mutation','RSA','PRED_DDG']]\n",
    "df.rename(columns={'RSA': 'mcsm_stability_rsa', 'PRED_DDG': 'mcsm_stability_ddG'}, inplace=True)\n",
    "df.drop(columns=['mcsm_stability_rsa'], inplace=True)\n",
    "df.set_index('mutation', inplace=True)\n",
    "df\n",
    "dataset.df.set_index('mutation', inplace=True)\n",
    "dataset.df = dataset.df.join(df,how='left')\n",
    "dataset.df.reset_index(inplace=True)\n",
    "dataset.df.mcsm_stability_ddG.hist()"
   ]
  },
  {
   "cell_type": "markdown",
   "metadata": {},
   "source": [
    "### add MAPP scores\n",
    "\n",
    "`MAPP` scores range from low (low impact) to high (high impact)"
   ]
  },
  {
   "cell_type": "code",
   "execution_count": 55,
   "metadata": {},
   "outputs": [
    {
     "data": {
      "text/plain": [
       "<Axes: >"
      ]
     },
     "execution_count": 55,
     "metadata": {},
     "output_type": "execute_result"
    },
    {
     "data": {
      "image/png": "[encoded data removed]",
      "text/plain": [
       "<Figure size 640x480 with 1 Axes>"
      ]
     },
     "metadata": {},
     "output_type": "display_data"
    }
   ],
   "source": [
    "df = pandas.read_csv('data/features/3pl1-mapp_scores.csv')\n",
    "df2 = pandas.melt(df, id_vars='Position',value_vars=['A', 'C', 'D', 'E', 'F', 'G', 'H', 'I', 'K', 'L', 'M', 'N', 'P', 'Q', 'R', 'S', 'T', 'V', 'W', 'Y'])\n",
    "df2.rename(columns={'Position': 'codon', 'variable': 'alt_amino_acid', 'value': 'mapp_score'}, inplace=True)\n",
    "df2.set_index(['codon', 'alt_amino_acid'], inplace=True)\n",
    "\n",
    "def split_mutation(row):\n",
    "    return pandas.Series([int(row.mutation[1:-1]), row.mutation[-1]])\n",
    "\n",
    "df2\n",
    "\n",
    "dataset.df[['codon', 'alt_amino_acid']] = dataset.df.apply(split_mutation, axis=1)\n",
    "dataset.df.set_index(['codon', 'alt_amino_acid'], inplace=True)\n",
    "dataset.df = dataset.df.join(df2,how='left')\n",
    "dataset.df.reset_index(inplace=True)\n",
    "dataset.df.drop(columns=['codon', 'alt_amino_acid'], inplace=True)\n",
    "dataset.df.mapp_score.hist()\n"
   ]
  },
  {
   "cell_type": "markdown",
   "metadata": {},
   "source": [
    "Finally, let's save the dataset, now with features "
   ]
  },
  {
   "cell_type": "code",
   "execution_count": 56,
   "metadata": {},
   "outputs": [
    {
     "data": {
      "text/html": [
       "<div>\n",
       "<style scoped>\n",
       "    .dataframe tbody tr th:only-of-type {\n",
       "        vertical-align: middle;\n",
       "    }\n",
       "\n",
       "    .dataframe tbody tr th {\n",
       "        vertical-align: top;\n",
       "    }\n",
       "\n",
       "    .dataframe thead th {\n",
       "        text-align: right;\n",
       "    }\n",
       "</style>\n",
       "<table border=\"1\" class=\"dataframe\">\n",
       "  <thead>\n",
       "    <tr style=\"text-align: right;\">\n",
       "      <th></th>\n",
       "      <th>segid</th>\n",
       "      <th>phenotype</th>\n",
       "      <th>d_volume</th>\n",
       "      <th>d_hydropathy_KD</th>\n",
       "      <th>d_Pi</th>\n",
       "      <th>d_MW</th>\n",
       "      <th>d_rogov</th>\n",
       "      <th>phi</th>\n",
       "      <th>psi</th>\n",
       "      <th>residue_sasa</th>\n",
       "      <th>n_hbond_acceptors</th>\n",
       "      <th>n_hbond_donors</th>\n",
       "      <th>secondary_structure_codes</th>\n",
       "      <th>temp_factor</th>\n",
       "      <th>depth</th>\n",
       "      <th>deep_ddG</th>\n",
       "      <th>rasp_score_ml</th>\n",
       "      <th>snap2_score</th>\n",
       "      <th>dist_FE2</th>\n",
       "      <th>dist_PZA</th>\n",
       "      <th>mcsm_stability_ddG</th>\n",
       "      <th>mapp_score</th>\n",
       "    </tr>\n",
       "    <tr>\n",
       "      <th>mutation</th>\n",
       "      <th></th>\n",
       "      <th></th>\n",
       "      <th></th>\n",
       "      <th></th>\n",
       "      <th></th>\n",
       "      <th></th>\n",
       "      <th></th>\n",
       "      <th></th>\n",
       "      <th></th>\n",
       "      <th></th>\n",
       "      <th></th>\n",
       "      <th></th>\n",
       "      <th></th>\n",
       "      <th></th>\n",
       "      <th></th>\n",
       "      <th></th>\n",
       "      <th></th>\n",
       "      <th></th>\n",
       "      <th></th>\n",
       "      <th></th>\n",
       "      <th></th>\n",
       "      <th></th>\n",
       "    </tr>\n",
       "  </thead>\n",
       "  <tbody>\n",
       "    <tr>\n",
       "      <th>M1I</th>\n",
       "      <td>A</td>\n",
       "      <td>S</td>\n",
       "      <td>3.8</td>\n",
       "      <td>2.6</td>\n",
       "      <td>0.28</td>\n",
       "      <td>-18.0</td>\n",
       "      <td>-0.452</td>\n",
       "      <td>0.00</td>\n",
       "      <td>-35.20</td>\n",
       "      <td>86.2</td>\n",
       "      <td>2.0</td>\n",
       "      <td>0.0</td>\n",
       "      <td>3</td>\n",
       "      <td>59.720001</td>\n",
       "      <td>2.103049</td>\n",
       "      <td>-0.407</td>\n",
       "      <td>0.076292</td>\n",
       "      <td>7</td>\n",
       "      <td>29.948318</td>\n",
       "      <td>27.641663</td>\n",
       "      <td>-0.771</td>\n",
       "      <td>21.99</td>\n",
       "    </tr>\n",
       "    <tr>\n",
       "      <th>M1T</th>\n",
       "      <td>A</td>\n",
       "      <td>R</td>\n",
       "      <td>-46.8</td>\n",
       "      <td>-2.6</td>\n",
       "      <td>-0.14</td>\n",
       "      <td>-30.1</td>\n",
       "      <td>-0.548</td>\n",
       "      <td>0.00</td>\n",
       "      <td>-35.20</td>\n",
       "      <td>86.2</td>\n",
       "      <td>2.0</td>\n",
       "      <td>0.0</td>\n",
       "      <td>3</td>\n",
       "      <td>59.720001</td>\n",
       "      <td>2.103049</td>\n",
       "      <td>-1.096</td>\n",
       "      <td>0.655765</td>\n",
       "      <td>52</td>\n",
       "      <td>29.948318</td>\n",
       "      <td>27.641663</td>\n",
       "      <td>-0.367</td>\n",
       "      <td>25.97</td>\n",
       "    </tr>\n",
       "    <tr>\n",
       "      <th>A3E</th>\n",
       "      <td>A</td>\n",
       "      <td>R</td>\n",
       "      <td>49.8</td>\n",
       "      <td>-5.3</td>\n",
       "      <td>-2.78</td>\n",
       "      <td>58.0</td>\n",
       "      <td>-0.033</td>\n",
       "      <td>-126.53</td>\n",
       "      <td>153.85</td>\n",
       "      <td>0.0</td>\n",
       "      <td>1.0</td>\n",
       "      <td>1.0</td>\n",
       "      <td>0</td>\n",
       "      <td>43.310001</td>\n",
       "      <td>5.503930</td>\n",
       "      <td>-5.340</td>\n",
       "      <td>3.546088</td>\n",
       "      <td>56</td>\n",
       "      <td>24.149025</td>\n",
       "      <td>21.557456</td>\n",
       "      <td>-2.528</td>\n",
       "      <td>35.68</td>\n",
       "    </tr>\n",
       "    <tr>\n",
       "      <th>L4S</th>\n",
       "      <td>A</td>\n",
       "      <td>R</td>\n",
       "      <td>-77.7</td>\n",
       "      <td>-4.6</td>\n",
       "      <td>-0.30</td>\n",
       "      <td>-26.1</td>\n",
       "      <td>0.015</td>\n",
       "      <td>-103.24</td>\n",
       "      <td>132.40</td>\n",
       "      <td>0.2</td>\n",
       "      <td>1.0</td>\n",
       "      <td>1.0</td>\n",
       "      <td>0</td>\n",
       "      <td>37.549999</td>\n",
       "      <td>5.075218</td>\n",
       "      <td>-2.638</td>\n",
       "      <td>4.474058</td>\n",
       "      <td>63</td>\n",
       "      <td>21.796820</td>\n",
       "      <td>18.780048</td>\n",
       "      <td>-3.567</td>\n",
       "      <td>3.41</td>\n",
       "    </tr>\n",
       "    <tr>\n",
       "      <th>I5S</th>\n",
       "      <td>A</td>\n",
       "      <td>R</td>\n",
       "      <td>-77.7</td>\n",
       "      <td>-5.3</td>\n",
       "      <td>-0.34</td>\n",
       "      <td>-26.1</td>\n",
       "      <td>-0.026</td>\n",
       "      <td>-113.70</td>\n",
       "      <td>111.88</td>\n",
       "      <td>0.2</td>\n",
       "      <td>1.0</td>\n",
       "      <td>1.0</td>\n",
       "      <td>0</td>\n",
       "      <td>33.880001</td>\n",
       "      <td>8.653551</td>\n",
       "      <td>-3.518</td>\n",
       "      <td>4.951083</td>\n",
       "      <td>63</td>\n",
       "      <td>17.942997</td>\n",
       "      <td>15.158482</td>\n",
       "      <td>-3.521</td>\n",
       "      <td>14.97</td>\n",
       "    </tr>\n",
       "    <tr>\n",
       "      <th>...</th>\n",
       "      <td>...</td>\n",
       "      <td>...</td>\n",
       "      <td>...</td>\n",
       "      <td>...</td>\n",
       "      <td>...</td>\n",
       "      <td>...</td>\n",
       "      <td>...</td>\n",
       "      <td>...</td>\n",
       "      <td>...</td>\n",
       "      <td>...</td>\n",
       "      <td>...</td>\n",
       "      <td>...</td>\n",
       "      <td>...</td>\n",
       "      <td>...</td>\n",
       "      <td>...</td>\n",
       "      <td>...</td>\n",
       "      <td>...</td>\n",
       "      <td>...</td>\n",
       "      <td>...</td>\n",
       "      <td>...</td>\n",
       "      <td>...</td>\n",
       "      <td>...</td>\n",
       "    </tr>\n",
       "    <tr>\n",
       "      <th>M175V</th>\n",
       "      <td>A</td>\n",
       "      <td>R</td>\n",
       "      <td>-22.9</td>\n",
       "      <td>2.3</td>\n",
       "      <td>0.22</td>\n",
       "      <td>-32.1</td>\n",
       "      <td>-0.514</td>\n",
       "      <td>-67.30</td>\n",
       "      <td>-49.00</td>\n",
       "      <td>0.0</td>\n",
       "      <td>3.0</td>\n",
       "      <td>2.0</td>\n",
       "      <td>1</td>\n",
       "      <td>45.490002</td>\n",
       "      <td>4.312460</td>\n",
       "      <td>-2.087</td>\n",
       "      <td>1.689107</td>\n",
       "      <td>52</td>\n",
       "      <td>21.387932</td>\n",
       "      <td>17.375624</td>\n",
       "      <td>-1.447</td>\n",
       "      <td>30.01</td>\n",
       "    </tr>\n",
       "    <tr>\n",
       "      <th>V180A</th>\n",
       "      <td>A</td>\n",
       "      <td>R</td>\n",
       "      <td>-51.4</td>\n",
       "      <td>-2.4</td>\n",
       "      <td>0.04</td>\n",
       "      <td>-28.0</td>\n",
       "      <td>0.232</td>\n",
       "      <td>-73.47</td>\n",
       "      <td>140.70</td>\n",
       "      <td>5.4</td>\n",
       "      <td>0.0</td>\n",
       "      <td>1.0</td>\n",
       "      <td>3</td>\n",
       "      <td>43.340000</td>\n",
       "      <td>2.863976</td>\n",
       "      <td>-2.408</td>\n",
       "      <td>3.035211</td>\n",
       "      <td>-8</td>\n",
       "      <td>23.910008</td>\n",
       "      <td>20.039579</td>\n",
       "      <td>-1.987</td>\n",
       "      <td>3.24</td>\n",
       "    </tr>\n",
       "    <tr>\n",
       "      <th>V180F</th>\n",
       "      <td>A</td>\n",
       "      <td>R</td>\n",
       "      <td>49.9</td>\n",
       "      <td>-1.4</td>\n",
       "      <td>-0.48</td>\n",
       "      <td>48.1</td>\n",
       "      <td>0.345</td>\n",
       "      <td>-73.47</td>\n",
       "      <td>140.70</td>\n",
       "      <td>5.4</td>\n",
       "      <td>0.0</td>\n",
       "      <td>1.0</td>\n",
       "      <td>3</td>\n",
       "      <td>43.340000</td>\n",
       "      <td>2.863976</td>\n",
       "      <td>-3.033</td>\n",
       "      <td>3.885875</td>\n",
       "      <td>57</td>\n",
       "      <td>23.910008</td>\n",
       "      <td>20.039579</td>\n",
       "      <td>-1.494</td>\n",
       "      <td>2.97</td>\n",
       "    </tr>\n",
       "    <tr>\n",
       "      <th>V180G</th>\n",
       "      <td>A</td>\n",
       "      <td>R</td>\n",
       "      <td>-79.9</td>\n",
       "      <td>-4.6</td>\n",
       "      <td>0.01</td>\n",
       "      <td>-42.0</td>\n",
       "      <td>-0.080</td>\n",
       "      <td>-73.47</td>\n",
       "      <td>140.70</td>\n",
       "      <td>5.4</td>\n",
       "      <td>0.0</td>\n",
       "      <td>1.0</td>\n",
       "      <td>3</td>\n",
       "      <td>43.340000</td>\n",
       "      <td>2.863976</td>\n",
       "      <td>-3.447</td>\n",
       "      <td>5.411617</td>\n",
       "      <td>61</td>\n",
       "      <td>23.910008</td>\n",
       "      <td>20.039579</td>\n",
       "      <td>-2.366</td>\n",
       "      <td>5.43</td>\n",
       "    </tr>\n",
       "    <tr>\n",
       "      <th>L182F</th>\n",
       "      <td>A</td>\n",
       "      <td>S</td>\n",
       "      <td>23.2</td>\n",
       "      <td>-1.0</td>\n",
       "      <td>-0.50</td>\n",
       "      <td>34.0</td>\n",
       "      <td>0.367</td>\n",
       "      <td>-106.70</td>\n",
       "      <td>110.91</td>\n",
       "      <td>50.6</td>\n",
       "      <td>0.0</td>\n",
       "      <td>0.0</td>\n",
       "      <td>0</td>\n",
       "      <td>44.919998</td>\n",
       "      <td>2.103581</td>\n",
       "      <td>-0.804</td>\n",
       "      <td>1.754515</td>\n",
       "      <td>47</td>\n",
       "      <td>25.183472</td>\n",
       "      <td>20.530870</td>\n",
       "      <td>-1.200</td>\n",
       "      <td>2.22</td>\n",
       "    </tr>\n",
       "  </tbody>\n",
       "</table>\n",
       "<p>199 rows × 22 columns</p>\n",
       "</div>"
      ],
      "text/plain": [
       "         segid phenotype  d_volume  d_hydropathy_KD  d_Pi  d_MW  d_rogov  \\\n",
       "mutation                                                                   \n",
       "M1I          A         S       3.8              2.6  0.28 -18.0   -0.452   \n",
       "M1T          A         R     -46.8             -2.6 -0.14 -30.1   -0.548   \n",
       "A3E          A         R      49.8             -5.3 -2.78  58.0   -0.033   \n",
       "L4S          A         R     -77.7             -4.6 -0.30 -26.1    0.015   \n",
       "I5S          A         R     -77.7             -5.3 -0.34 -26.1   -0.026   \n",
       "...        ...       ...       ...              ...   ...   ...      ...   \n",
       "M175V        A         R     -22.9              2.3  0.22 -32.1   -0.514   \n",
       "V180A        A         R     -51.4             -2.4  0.04 -28.0    0.232   \n",
       "V180F        A         R      49.9             -1.4 -0.48  48.1    0.345   \n",
       "V180G        A         R     -79.9             -4.6  0.01 -42.0   -0.080   \n",
       "L182F        A         S      23.2             -1.0 -0.50  34.0    0.367   \n",
       "\n",
       "             phi     psi  residue_sasa  n_hbond_acceptors  n_hbond_donors  \\\n",
       "mutation                                                                    \n",
       "M1I         0.00  -35.20          86.2                2.0             0.0   \n",
       "M1T         0.00  -35.20          86.2                2.0             0.0   \n",
       "A3E      -126.53  153.85           0.0                1.0             1.0   \n",
       "L4S      -103.24  132.40           0.2                1.0             1.0   \n",
       "I5S      -113.70  111.88           0.2                1.0             1.0   \n",
       "...          ...     ...           ...                ...             ...   \n",
       "M175V     -67.30  -49.00           0.0                3.0             2.0   \n",
       "V180A     -73.47  140.70           5.4                0.0             1.0   \n",
       "V180F     -73.47  140.70           5.4                0.0             1.0   \n",
       "V180G     -73.47  140.70           5.4                0.0             1.0   \n",
       "L182F    -106.70  110.91          50.6                0.0             0.0   \n",
       "\n",
       "          secondary_structure_codes  temp_factor     depth  deep_ddG  \\\n",
       "mutation                                                               \n",
       "M1I                               3    59.720001  2.103049    -0.407   \n",
       "M1T                               3    59.720001  2.103049    -1.096   \n",
       "A3E                               0    43.310001  5.503930    -5.340   \n",
       "L4S                               0    37.549999  5.075218    -2.638   \n",
       "I5S                               0    33.880001  8.653551    -3.518   \n",
       "...                             ...          ...       ...       ...   \n",
       "M175V                             1    45.490002  4.312460    -2.087   \n",
       "V180A                             3    43.340000  2.863976    -2.408   \n",
       "V180F                             3    43.340000  2.863976    -3.033   \n",
       "V180G                             3    43.340000  2.863976    -3.447   \n",
       "L182F                             0    44.919998  2.103581    -0.804   \n",
       "\n",
       "          rasp_score_ml  snap2_score   dist_FE2   dist_PZA  \\\n",
       "mutation                                                     \n",
       "M1I            0.076292            7  29.948318  27.641663   \n",
       "M1T            0.655765           52  29.948318  27.641663   \n",
       "A3E            3.546088           56  24.149025  21.557456   \n",
       "L4S            4.474058           63  21.796820  18.780048   \n",
       "I5S            4.951083           63  17.942997  15.158482   \n",
       "...                 ...          ...        ...        ...   \n",
       "M175V          1.689107           52  21.387932  17.375624   \n",
       "V180A          3.035211           -8  23.910008  20.039579   \n",
       "V180F          3.885875           57  23.910008  20.039579   \n",
       "V180G          5.411617           61  23.910008  20.039579   \n",
       "L182F          1.754515           47  25.183472  20.530870   \n",
       "\n",
       "          mcsm_stability_ddG  mapp_score  \n",
       "mutation                                  \n",
       "M1I                   -0.771       21.99  \n",
       "M1T                   -0.367       25.97  \n",
       "A3E                   -2.528       35.68  \n",
       "L4S                   -3.567        3.41  \n",
       "I5S                   -3.521       14.97  \n",
       "...                      ...         ...  \n",
       "M175V                 -1.447       30.01  \n",
       "V180A                 -1.987        3.24  \n",
       "V180F                 -1.494        2.97  \n",
       "V180G                 -2.366        5.43  \n",
       "L182F                 -1.200        2.22  \n",
       "\n",
       "[199 rows x 22 columns]"
      ]
     },
     "execution_count": 56,
     "metadata": {},
     "output_type": "execute_result"
    }
   ],
   "source": [
    "dataset.df.to_csv('data/ds-'+filestem+'-phen-features.csv', index=False)\n",
    "dataset.df.set_index('mutation', inplace=True)\n",
    "dataset.df"
   ]
  },
  {
   "cell_type": "code",
   "execution_count": null,
   "metadata": {},
   "outputs": [],
   "source": []
  }
 ],
 "metadata": {
  "kernelspec": {
   "display_name": "Python 3",
   "language": "python",
   "name": "python3"
  },
  "language_info": {
   "codemirror_mode": {
    "name": "ipython",
    "version": 3
   },
   "file_extension": ".py",
   "mimetype": "text/x-python",
   "name": "python",
   "nbconvert_exporter": "python",
   "pygments_lexer": "ipython3",
   "version": "3.11.4"
  },
  "orig_nbformat": 4
 },
 "nbformat": 4,
 "nbformat_minor": 2
}
