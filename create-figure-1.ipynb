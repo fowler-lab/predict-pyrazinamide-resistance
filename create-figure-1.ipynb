{
 "cells": [
  {
   "cell_type": "markdown",
   "metadata": {},
   "source": [
    "# Figure 1"
   ]
  },
  {
   "cell_type": "code",
   "execution_count": 1,
   "metadata": {},
   "outputs": [],
   "source": [
    "import numpy, pandas\n",
    "import matplotlib\n",
    "import matplotlib.pyplot as plt"
   ]
  },
  {
   "attachments": {},
   "cell_type": "markdown",
   "metadata": {},
   "source": [
    "## Figure 1a. Observed genetic variation in pncA"
   ]
  },
  {
   "cell_type": "code",
   "execution_count": 2,
   "metadata": {},
   "outputs": [],
   "source": [
    "with open('./data/reference/NC_000962.3_pncA.fasta','r') as INPUT:\n",
    "    INPUT.readline()\n",
    "    pncA_sequence = INPUT.readline()\n",
    "\n",
    "aminoacids = 'FFLLSSSSYY!!CC!WLLLLPPPPHHQQRRRRIIIMTTTTNNKKSSRRVVVVAAAADDEEGGGG'\n",
    "bases = ['t', 'c', 'a', 'g']\n",
    "all_codons = numpy.array([a+b+c for a in bases for b in bases for c in bases])\n",
    "codon_to_amino_acid = dict(zip(all_codons, aminoacids))"
   ]
  },
  {
   "cell_type": "code",
   "execution_count": 3,
   "metadata": {},
   "outputs": [],
   "source": [
    "index = 1\n",
    "\n",
    "maximum_amino_acids = []\n",
    "amino_acid_position = []\n",
    "\n",
    "for codon in [pncA_sequence[i:i+3] for i in range(0,len(pncA_sequence),3)]:\n",
    "    \n",
    "    aminoacid = codon_to_amino_acid[codon]\n",
    "    mutations = []\n",
    "\n",
    "    for pos in [0, 1, 2]:\n",
    "        for i in bases:\n",
    "            if codon[pos] != i:\n",
    "                new_codon = codon[:pos] + i + codon[pos+1:]\n",
    "                new_aminoacid = codon_to_amino_acid[new_codon]\n",
    "\n",
    "                if new_aminoacid != aminoacid and new_aminoacid not in mutations and new_aminoacid!=\"!\":\n",
    "                    mutations.append(new_aminoacid)\n",
    "\n",
    "    # print(index, len(mutations))\n",
    "\n",
    "    maximum_amino_acids.append(len(mutations))\n",
    "    amino_acid_position.append(index)\n",
    "    \n",
    "    index+=1\n",
    "\n",
    "max_aa = pandas.DataFrame(maximum_amino_acids, index=amino_acid_position, columns=['MAX'])"
   ]
  },
  {
   "cell_type": "code",
   "execution_count": 4,
   "metadata": {},
   "outputs": [
    {
     "data": {
      "text/html": [
       "<div>\n",
       "<style scoped>\n",
       "    .dataframe tbody tr th:only-of-type {\n",
       "        vertical-align: middle;\n",
       "    }\n",
       "\n",
       "    .dataframe tbody tr th {\n",
       "        vertical-align: top;\n",
       "    }\n",
       "\n",
       "    .dataframe thead th {\n",
       "        text-align: right;\n",
       "    }\n",
       "</style>\n",
       "<table border=\"1\" class=\"dataframe\">\n",
       "  <thead>\n",
       "    <tr style=\"text-align: right;\">\n",
       "      <th></th>\n",
       "      <th>MUTATION</th>\n",
       "      <th>CONSISTENT_PHENOTYPE</th>\n",
       "      <th>POSITION</th>\n",
       "    </tr>\n",
       "  </thead>\n",
       "  <tbody>\n",
       "    <tr>\n",
       "      <th>0</th>\n",
       "      <td>A102V</td>\n",
       "      <td>S</td>\n",
       "      <td>102</td>\n",
       "    </tr>\n",
       "    <tr>\n",
       "      <th>1</th>\n",
       "      <td>A134D</td>\n",
       "      <td>S</td>\n",
       "      <td>134</td>\n",
       "    </tr>\n",
       "    <tr>\n",
       "      <th>2</th>\n",
       "      <td>A134P</td>\n",
       "      <td>R</td>\n",
       "      <td>134</td>\n",
       "    </tr>\n",
       "  </tbody>\n",
       "</table>\n",
       "</div>"
      ],
      "text/plain": [
       "  MUTATION CONSISTENT_PHENOTYPE  POSITION\n",
       "0    A102V                    S       102\n",
       "1    A134D                    S       134\n",
       "2    A134P                    R       134"
      ]
     },
     "execution_count": 4,
     "metadata": {},
     "output_type": "execute_result"
    }
   ],
   "source": [
    "DATASET = pandas.read_csv('data/ds-traintest-phen.csv')\n",
    "def find_position(row):\n",
    "    return int(row.MUTATION[1:-1])\n",
    "\n",
    "DATASET['POSITION'] = DATASET.apply(find_position, axis=1)\n",
    "DATASET[:3]"
   ]
  },
  {
   "cell_type": "code",
   "execution_count": 5,
   "metadata": {},
   "outputs": [
    {
     "data": {
      "text/html": [
       "<div>\n",
       "<style scoped>\n",
       "    .dataframe tbody tr th:only-of-type {\n",
       "        vertical-align: middle;\n",
       "    }\n",
       "\n",
       "    .dataframe tbody tr th {\n",
       "        vertical-align: top;\n",
       "    }\n",
       "\n",
       "    .dataframe thead th {\n",
       "        text-align: right;\n",
       "    }\n",
       "</style>\n",
       "<table border=\"1\" class=\"dataframe\">\n",
       "  <thead>\n",
       "    <tr style=\"text-align: right;\">\n",
       "      <th></th>\n",
       "      <th>R</th>\n",
       "      <th>S</th>\n",
       "      <th>TOTAL</th>\n",
       "      <th>frac_R</th>\n",
       "      <th>MAX</th>\n",
       "    </tr>\n",
       "    <tr>\n",
       "      <th>POSITION</th>\n",
       "      <th></th>\n",
       "      <th></th>\n",
       "      <th></th>\n",
       "      <th></th>\n",
       "      <th></th>\n",
       "    </tr>\n",
       "  </thead>\n",
       "  <tbody>\n",
       "    <tr>\n",
       "      <th>1</th>\n",
       "      <td>2</td>\n",
       "      <td>1</td>\n",
       "      <td>3</td>\n",
       "      <td>0.666667</td>\n",
       "      <td>6</td>\n",
       "    </tr>\n",
       "    <tr>\n",
       "      <th>2</th>\n",
       "      <td>0</td>\n",
       "      <td>1</td>\n",
       "      <td>1</td>\n",
       "      <td>0.000000</td>\n",
       "      <td>5</td>\n",
       "    </tr>\n",
       "    <tr>\n",
       "      <th>3</th>\n",
       "      <td>1</td>\n",
       "      <td>2</td>\n",
       "      <td>3</td>\n",
       "      <td>0.333333</td>\n",
       "      <td>6</td>\n",
       "    </tr>\n",
       "    <tr>\n",
       "      <th>4</th>\n",
       "      <td>4</td>\n",
       "      <td>1</td>\n",
       "      <td>5</td>\n",
       "      <td>0.800000</td>\n",
       "      <td>5</td>\n",
       "    </tr>\n",
       "    <tr>\n",
       "      <th>5</th>\n",
       "      <td>5</td>\n",
       "      <td>1</td>\n",
       "      <td>6</td>\n",
       "      <td>0.833333</td>\n",
       "      <td>7</td>\n",
       "    </tr>\n",
       "    <tr>\n",
       "      <th>...</th>\n",
       "      <td>...</td>\n",
       "      <td>...</td>\n",
       "      <td>...</td>\n",
       "      <td>...</td>\n",
       "      <td>...</td>\n",
       "    </tr>\n",
       "    <tr>\n",
       "      <th>181</th>\n",
       "      <td>1</td>\n",
       "      <td>1</td>\n",
       "      <td>2</td>\n",
       "      <td>0.500000</td>\n",
       "      <td>6</td>\n",
       "    </tr>\n",
       "    <tr>\n",
       "      <th>182</th>\n",
       "      <td>1</td>\n",
       "      <td>1</td>\n",
       "      <td>2</td>\n",
       "      <td>0.500000</td>\n",
       "      <td>5</td>\n",
       "    </tr>\n",
       "    <tr>\n",
       "      <th>183</th>\n",
       "      <td>1</td>\n",
       "      <td>2</td>\n",
       "      <td>3</td>\n",
       "      <td>0.333333</td>\n",
       "      <td>6</td>\n",
       "    </tr>\n",
       "    <tr>\n",
       "      <th>184</th>\n",
       "      <td>1</td>\n",
       "      <td>1</td>\n",
       "      <td>2</td>\n",
       "      <td>0.500000</td>\n",
       "      <td>6</td>\n",
       "    </tr>\n",
       "    <tr>\n",
       "      <th>185</th>\n",
       "      <td>0</td>\n",
       "      <td>6</td>\n",
       "      <td>6</td>\n",
       "      <td>0.000000</td>\n",
       "      <td>6</td>\n",
       "    </tr>\n",
       "  </tbody>\n",
       "</table>\n",
       "<p>184 rows × 5 columns</p>\n",
       "</div>"
      ],
      "text/plain": [
       "          R  S  TOTAL    frac_R  MAX\n",
       "POSITION                            \n",
       "1         2  1      3  0.666667    6\n",
       "2         0  1      1  0.000000    5\n",
       "3         1  2      3  0.333333    6\n",
       "4         4  1      5  0.800000    5\n",
       "5         5  1      6  0.833333    7\n",
       "...      .. ..    ...       ...  ...\n",
       "181       1  1      2  0.500000    6\n",
       "182       1  1      2  0.500000    5\n",
       "183       1  2      3  0.333333    6\n",
       "184       1  1      2  0.500000    6\n",
       "185       0  6      6  0.000000    6\n",
       "\n",
       "[184 rows x 5 columns]"
      ]
     },
     "execution_count": 5,
     "metadata": {},
     "output_type": "execute_result"
    }
   ],
   "source": [
    "total = pandas.crosstab(DATASET.POSITION, DATASET.CONSISTENT_PHENOTYPE)\n",
    "total['TOTAL'] = total.R + total.S\n",
    "total['frac_R'] = total['R'] / total['TOTAL']\n",
    "total = total.join(max_aa)\n",
    "total"
   ]
  },
  {
   "cell_type": "code",
   "execution_count": 6,
   "metadata": {},
   "outputs": [
    {
     "name": "stdout",
     "output_type": "stream",
     "text": [
      "151 149\n"
     ]
    }
   ],
   "source": [
    "xs=[0.5]\n",
    "ys=[0]\n",
    "yt=[0]\n",
    "\n",
    "prev_idx=0\n",
    "for idx,row in total.iterrows():\n",
    "    if idx-prev_idx!=1:\n",
    "        print(idx, prev_idx)\n",
    "    if idx==151:\n",
    "        xs.append(149.5)\n",
    "        xs.append(150.5)\n",
    "        ys.append(0)\n",
    "        ys.append(0)\n",
    "        yt.append(0)\n",
    "        yt.append(0)\n",
    "    prev_idx=idx\n",
    "    xs.append(idx-0.5)\n",
    "    xs.append(idx+0.5)\n",
    "    ys.append(row.TOTAL)\n",
    "    ys.append(row.TOTAL)\n",
    "    yt.append(row.MAX)\n",
    "    yt.append(row.MAX)"
   ]
  },
  {
   "cell_type": "code",
   "execution_count": 7,
   "metadata": {},
   "outputs": [
    {
     "data": {
      "image/png": "[encoded data removed]",
      "text/plain": [
       "<Figure size 2000x400 with 1 Axes>"
      ]
     },
     "metadata": {},
     "output_type": "display_data"
    }
   ],
   "source": [
    "metal_binding_residues = [49,51,57,71]\n",
    "\n",
    "active_site_residues = [8,13,19,68,96,133,134,137,138]\n",
    "\n",
    "fig,axes=plt.subplots(1,1,figsize=(20,4))\n",
    "axes.spines['right'].set_visible(False)\n",
    "axes.spines['top'].set_visible(False)\n",
    "axes.set_ylim([0,7])\n",
    "axes.set_yticks(range(0,10,2))\n",
    "axes.set_xticks(range(1,188,31))\n",
    "axes.bar(total.index, total.MAX, width=1, color='#cccccc')\n",
    "axes.bar(total.index, total.S, width=1, color='#377eb8')\n",
    "axes.bar(total.index, total.R, bottom=total.S, width=1, color='#e41a1c')\n",
    "axes.plot(xs,ys, color='black')\n",
    "\n",
    "# annotate the metal binding sites\n",
    "for i in metal_binding_residues:\n",
    "    axes.plot((i,i),(7.5,8.5), color='#68378b')\n",
    "\n",
    "# for i in active_site_residues:\n",
    "#     axes.plot((i,i),(7.5,8.5), color='#e4bad7')\n",
    "\n",
    "matplotlib.rcParams.update({'font.size': 24})\n",
    "# axes.plot(xs,yt, color='black')\n",
    "fig.savefig('pdf/fig-1_hist-codon.pdf',bbox_inches='tight',transparent=True)"
   ]
  },
  {
   "cell_type": "code",
   "execution_count": 8,
   "metadata": {},
   "outputs": [
    {
     "data": {
      "text/plain": [
       "'resid 49 51 57 71'"
      ]
     },
     "execution_count": 8,
     "metadata": {},
     "output_type": "execute_result"
    }
   ],
   "source": [
    "'resid ' + ' '.join(str(i) for i in metal_binding_residues)"
   ]
  },
  {
   "cell_type": "code",
   "execution_count": 9,
   "metadata": {},
   "outputs": [
    {
     "data": {
      "text/plain": [
       "'resid 8 13 19 68 96 133 134 137 138'"
      ]
     },
     "execution_count": 9,
     "metadata": {},
     "output_type": "execute_result"
    }
   ],
   "source": [
    "'resid ' + ' '.join(str(i) for i in active_site_residues)"
   ]
  },
  {
   "attachments": {},
   "cell_type": "markdown",
   "metadata": {},
   "source": [
    "## Figure 1b. Clinically-observed association between genetic variation in pncA and pyrazinamide resistance."
   ]
  },
  {
   "cell_type": "code",
   "execution_count": 10,
   "metadata": {},
   "outputs": [
    {
     "name": "stdout",
     "output_type": "stream",
     "text": [
      "The CRyPTIC dataset contains 22842 samples and 3351 are resistant\n",
      "6851 samples have one or more mutations in pncA\n"
     ]
    }
   ],
   "source": [
    "MUTATIONS_CORE = pandas.read_csv('data/source-data/cryptic1-mutations.csv')\n",
    "MUTATIONS_CORE.set_index('UNIQUEID', inplace=True)\n",
    "\n",
    "DST_CORE = pandas.read_csv('data/source-data/cryptic1-dst.csv')\n",
    "DST_CORE.set_index('UNIQUEID', inplace=True)\n",
    "MUTATIONS_CORE = MUTATIONS_CORE.join(DST_CORE[['PHENOTYPE']], how='left')\n",
    "print(\"The CRyPTIC dataset contains %i samples and %i are resistant\" % (len(DST_CORE), len(DST_CORE[DST_CORE.PHENOTYPE=='R'])))\n",
    "print(\"%i samples have one or more mutations in pncA\" % (len(MUTATIONS_CORE.index.unique())))\n"
   ]
  },
  {
   "cell_type": "code",
   "execution_count": 11,
   "metadata": {},
   "outputs": [
    {
     "data": {
      "text/plain": [
       "1    6622\n",
       "2     228\n",
       "3       1\n",
       "Name: POSITION, dtype: int64"
      ]
     },
     "execution_count": 11,
     "metadata": {},
     "output_type": "execute_result"
    }
   ],
   "source": [
    "MUTATIONS_CORE.reset_index(inplace=True)\n",
    "variants_per_sample = MUTATIONS_CORE[['UNIQUEID','POSITION']].groupby('UNIQUEID').count()\n",
    "MUTATIONS_CORE.set_index('UNIQUEID', inplace=True)\n",
    "variants_per_sample.POSITION.value_counts()"
   ]
  },
  {
   "cell_type": "code",
   "execution_count": 12,
   "metadata": {},
   "outputs": [
    {
     "data": {
      "text/plain": [
       "S65S         197\n",
       "a-11g         18\n",
       "H57D           7\n",
       "398_indel      7\n",
       "471_indel      5\n",
       "M175V          5\n",
       "L4S            4\n",
       "H51Q           4\n",
       "V9G            4\n",
       "S74S           4\n",
       "Name: MUTATION, dtype: int64"
      ]
     },
     "execution_count": 12,
     "metadata": {},
     "output_type": "execute_result"
    }
   ],
   "source": [
    "multi_variant_samples = variants_per_sample[variants_per_sample.POSITION>1].index\n",
    "MUTATIONS_CORE.loc[multi_variant_samples].MUTATION.value_counts()[:10]"
   ]
  },
  {
   "cell_type": "code",
   "execution_count": 13,
   "metadata": {},
   "outputs": [
    {
     "name": "stdout",
     "output_type": "stream",
     "text": [
      "167 3288 2691 75 401\n",
      "0.025 0.497 0.406 0.011 0.061\n"
     ]
    }
   ],
   "source": [
    "solos = variants_per_sample[variants_per_sample.POSITION==1].index\n",
    "SOLO_MUTATIONS = MUTATIONS_CORE.loc[solos]\n",
    "\n",
    "def define_nonsense(row):\n",
    "    if row.MUTATION[-1] == '!':\n",
    "        return True\n",
    "    else:\n",
    "        return False\n",
    "\n",
    "def define_missense(row):\n",
    "    if not row.IS_NONSENSE and row.IS_NONSYNONYMOUS:\n",
    "        return True\n",
    "    else:\n",
    "        return False\n",
    "\n",
    "\n",
    "SOLO_MUTATIONS['IS_NONSENSE'] = SOLO_MUTATIONS.apply(define_nonsense, axis=1)\n",
    "SOLO_MUTATIONS['IS_MISSENSE'] = SOLO_MUTATIONS.apply(define_missense, axis=1)\n",
    "\n",
    "n = len(SOLO_MUTATIONS)\n",
    "n_indel = len(SOLO_MUTATIONS[SOLO_MUTATIONS.IS_INDEL])\n",
    "n_syn = len(SOLO_MUTATIONS[SOLO_MUTATIONS.IS_SYNONYMOUS])\n",
    "n_promoter = len(SOLO_MUTATIONS[(SOLO_MUTATIONS.IS_SNP) & (SOLO_MUTATIONS.IN_PROMOTER)])\n",
    "n_missense = len(SOLO_MUTATIONS[(SOLO_MUTATIONS.IS_SNP) & (SOLO_MUTATIONS.IS_MISSENSE)])\n",
    "n_nonsense = len(SOLO_MUTATIONS[(SOLO_MUTATIONS.IS_SNP) & (SOLO_MUTATIONS.IS_NONSENSE)])\n",
    "print(n_promoter, n_syn, n_missense, n_nonsense, n_indel)\n",
    "print(\"%.3f %.3f %.3f %.3f %.3f\" % (n_promoter/n, n_syn/n, n_missense/n, n_nonsense/n, n_indel/n ))"
   ]
  },
  {
   "cell_type": "code",
   "execution_count": 14,
   "metadata": {},
   "outputs": [
    {
     "name": "stdout",
     "output_type": "stream",
     "text": [
      "136 26 1970 68 343\n",
      "0.814 0.008 0.732 0.907 0.855\n"
     ]
    }
   ],
   "source": [
    "n = len(SOLO_MUTATIONS)\n",
    "n_indel_r = len(SOLO_MUTATIONS[SOLO_MUTATIONS.IS_INDEL & (SOLO_MUTATIONS.PHENOTYPE=='R')])\n",
    "n_syn_r = len(SOLO_MUTATIONS[SOLO_MUTATIONS.IS_SYNONYMOUS & (SOLO_MUTATIONS.PHENOTYPE=='R')])\n",
    "n_promoter_r = len(SOLO_MUTATIONS[(SOLO_MUTATIONS.IS_SNP) & (SOLO_MUTATIONS.IN_PROMOTER) & (SOLO_MUTATIONS.PHENOTYPE=='R')])\n",
    "n_missense_r = len(SOLO_MUTATIONS[(SOLO_MUTATIONS.IS_SNP) & (SOLO_MUTATIONS.IS_MISSENSE) & (SOLO_MUTATIONS.PHENOTYPE=='R')])\n",
    "n_nonsense_r = len(SOLO_MUTATIONS[(SOLO_MUTATIONS.IS_SNP) & (SOLO_MUTATIONS.IS_NONSENSE) & (SOLO_MUTATIONS.PHENOTYPE=='R')])\n",
    "print(n_promoter_r, n_syn_r, n_missense_r, n_nonsense_r, n_indel_r)\n",
    "print(\"%.3f %.3f %.3f %.3f %.3f\" % (n_promoter_r/n_promoter, n_syn_r/n_syn, n_missense_r/n_missense, n_nonsense_r/n_nonsense, n_indel_r/n_indel ))"
   ]
  },
  {
   "cell_type": "code",
   "execution_count": 15,
   "metadata": {},
   "outputs": [
    {
     "data": {
      "text/html": [
       "<div>\n",
       "<style scoped>\n",
       "    .dataframe tbody tr th:only-of-type {\n",
       "        vertical-align: middle;\n",
       "    }\n",
       "\n",
       "    .dataframe tbody tr th {\n",
       "        vertical-align: top;\n",
       "    }\n",
       "\n",
       "    .dataframe thead th {\n",
       "        text-align: right;\n",
       "    }\n",
       "</style>\n",
       "<table border=\"1\" class=\"dataframe\">\n",
       "  <thead>\n",
       "    <tr style=\"text-align: right;\">\n",
       "      <th>PHENOTYPE</th>\n",
       "      <th>R</th>\n",
       "      <th>S</th>\n",
       "    </tr>\n",
       "    <tr>\n",
       "      <th>MUTATION</th>\n",
       "      <th></th>\n",
       "      <th></th>\n",
       "    </tr>\n",
       "  </thead>\n",
       "  <tbody>\n",
       "    <tr>\n",
       "      <th>A165A</th>\n",
       "      <td>0</td>\n",
       "      <td>2</td>\n",
       "    </tr>\n",
       "    <tr>\n",
       "      <th>A25A</th>\n",
       "      <td>0</td>\n",
       "      <td>1</td>\n",
       "    </tr>\n",
       "    <tr>\n",
       "      <th>A30A</th>\n",
       "      <td>0</td>\n",
       "      <td>1</td>\n",
       "    </tr>\n",
       "    <tr>\n",
       "      <th>A38A</th>\n",
       "      <td>0</td>\n",
       "      <td>17</td>\n",
       "    </tr>\n",
       "    <tr>\n",
       "      <th>A39A</th>\n",
       "      <td>0</td>\n",
       "      <td>1</td>\n",
       "    </tr>\n",
       "    <tr>\n",
       "      <th>A46A</th>\n",
       "      <td>2</td>\n",
       "      <td>0</td>\n",
       "    </tr>\n",
       "    <tr>\n",
       "      <th>D63D</th>\n",
       "      <td>1</td>\n",
       "      <td>0</td>\n",
       "    </tr>\n",
       "    <tr>\n",
       "      <th>E181E</th>\n",
       "      <td>0</td>\n",
       "      <td>1</td>\n",
       "    </tr>\n",
       "    <tr>\n",
       "      <th>G108G</th>\n",
       "      <td>0</td>\n",
       "      <td>1</td>\n",
       "    </tr>\n",
       "    <tr>\n",
       "      <th>G113G</th>\n",
       "      <td>0</td>\n",
       "      <td>1</td>\n",
       "    </tr>\n",
       "    <tr>\n",
       "      <th>G17G</th>\n",
       "      <td>0</td>\n",
       "      <td>1</td>\n",
       "    </tr>\n",
       "    <tr>\n",
       "      <th>G24G</th>\n",
       "      <td>0</td>\n",
       "      <td>2</td>\n",
       "    </tr>\n",
       "    <tr>\n",
       "      <th>G75G</th>\n",
       "      <td>0</td>\n",
       "      <td>6</td>\n",
       "    </tr>\n",
       "    <tr>\n",
       "      <th>G97G</th>\n",
       "      <td>0</td>\n",
       "      <td>3</td>\n",
       "    </tr>\n",
       "    <tr>\n",
       "      <th>H43H</th>\n",
       "      <td>0</td>\n",
       "      <td>1</td>\n",
       "    </tr>\n",
       "    <tr>\n",
       "      <th>H82H</th>\n",
       "      <td>0</td>\n",
       "      <td>1</td>\n",
       "    </tr>\n",
       "    <tr>\n",
       "      <th>I31I</th>\n",
       "      <td>0</td>\n",
       "      <td>1</td>\n",
       "    </tr>\n",
       "    <tr>\n",
       "      <th>L151L</th>\n",
       "      <td>0</td>\n",
       "      <td>2</td>\n",
       "    </tr>\n",
       "    <tr>\n",
       "      <th>L172L</th>\n",
       "      <td>0</td>\n",
       "      <td>1</td>\n",
       "    </tr>\n",
       "    <tr>\n",
       "      <th>L19L</th>\n",
       "      <td>1</td>\n",
       "      <td>0</td>\n",
       "    </tr>\n",
       "    <tr>\n",
       "      <th>L35L</th>\n",
       "      <td>0</td>\n",
       "      <td>3</td>\n",
       "    </tr>\n",
       "    <tr>\n",
       "      <th>P77P</th>\n",
       "      <td>0</td>\n",
       "      <td>1</td>\n",
       "    </tr>\n",
       "    <tr>\n",
       "      <th>R140R</th>\n",
       "      <td>0</td>\n",
       "      <td>1</td>\n",
       "    </tr>\n",
       "    <tr>\n",
       "      <th>R148R</th>\n",
       "      <td>0</td>\n",
       "      <td>1</td>\n",
       "    </tr>\n",
       "    <tr>\n",
       "      <th>R2R</th>\n",
       "      <td>1</td>\n",
       "      <td>0</td>\n",
       "    </tr>\n",
       "    <tr>\n",
       "      <th>S65S</th>\n",
       "      <td>19</td>\n",
       "      <td>3204</td>\n",
       "    </tr>\n",
       "    <tr>\n",
       "      <th>T153T</th>\n",
       "      <td>0</td>\n",
       "      <td>2</td>\n",
       "    </tr>\n",
       "    <tr>\n",
       "      <th>T167T</th>\n",
       "      <td>0</td>\n",
       "      <td>1</td>\n",
       "    </tr>\n",
       "    <tr>\n",
       "      <th>V131V</th>\n",
       "      <td>1</td>\n",
       "      <td>0</td>\n",
       "    </tr>\n",
       "    <tr>\n",
       "      <th>V155V</th>\n",
       "      <td>1</td>\n",
       "      <td>0</td>\n",
       "    </tr>\n",
       "    <tr>\n",
       "      <th>V180V</th>\n",
       "      <td>0</td>\n",
       "      <td>1</td>\n",
       "    </tr>\n",
       "    <tr>\n",
       "      <th>V44V</th>\n",
       "      <td>0</td>\n",
       "      <td>2</td>\n",
       "    </tr>\n",
       "    <tr>\n",
       "      <th>V9V</th>\n",
       "      <td>0</td>\n",
       "      <td>2</td>\n",
       "    </tr>\n",
       "    <tr>\n",
       "      <th>Y103Y</th>\n",
       "      <td>0</td>\n",
       "      <td>1</td>\n",
       "    </tr>\n",
       "  </tbody>\n",
       "</table>\n",
       "</div>"
      ],
      "text/plain": [
       "PHENOTYPE   R     S\n",
       "MUTATION           \n",
       "A165A       0     2\n",
       "A25A        0     1\n",
       "A30A        0     1\n",
       "A38A        0    17\n",
       "A39A        0     1\n",
       "A46A        2     0\n",
       "D63D        1     0\n",
       "E181E       0     1\n",
       "G108G       0     1\n",
       "G113G       0     1\n",
       "G17G        0     1\n",
       "G24G        0     2\n",
       "G75G        0     6\n",
       "G97G        0     3\n",
       "H43H        0     1\n",
       "H82H        0     1\n",
       "I31I        0     1\n",
       "L151L       0     2\n",
       "L172L       0     1\n",
       "L19L        1     0\n",
       "L35L        0     3\n",
       "P77P        0     1\n",
       "R140R       0     1\n",
       "R148R       0     1\n",
       "R2R         1     0\n",
       "S65S       19  3204\n",
       "T153T       0     2\n",
       "T167T       0     1\n",
       "V131V       1     0\n",
       "V155V       1     0\n",
       "V180V       0     1\n",
       "V44V        0     2\n",
       "V9V         0     2\n",
       "Y103Y       0     1"
      ]
     },
     "execution_count": 15,
     "metadata": {},
     "output_type": "execute_result"
    }
   ],
   "source": [
    "df = SOLO_MUTATIONS[(SOLO_MUTATIONS.IS_SYNONYMOUS)]\n",
    "pandas.crosstab(df.MUTATION, df.PHENOTYPE)"
   ]
  },
  {
   "cell_type": "code",
   "execution_count": 16,
   "metadata": {},
   "outputs": [
    {
     "data": {
      "image/png": "[encoded data removed]",
      "text/plain": [
       "<Figure size 300x300 with 1 Axes>"
      ]
     },
     "metadata": {},
     "output_type": "display_data"
    },
    {
     "data": {
      "image/png": "[encoded data removed]",
      "text/plain": [
       "<Figure size 300x300 with 1 Axes>"
      ]
     },
     "metadata": {},
     "output_type": "display_data"
    },
    {
     "data": {
      "image/png": "[encoded data removed]",
      "text/plain": [
       "<Figure size 300x300 with 1 Axes>"
      ]
     },
     "metadata": {},
     "output_type": "display_data"
    },
    {
     "data": {
      "image/png": "[encoded data removed]",
      "text/plain": [
       "<Figure size 300x300 with 1 Axes>"
      ]
     },
     "metadata": {},
     "output_type": "display_data"
    },
    {
     "data": {
      "image/png": "[encoded data removed]",
      "text/plain": [
       "<Figure size 300x300 with 1 Axes>"
      ]
     },
     "metadata": {},
     "output_type": "display_data"
    }
   ],
   "source": [
    "groups = {'syn': (n_syn_r,(n_syn-n_syn_r)),\n",
    "          'indel': (n_indel_r,(n_indel-n_indel_r)),\n",
    "          'promoter': (n_promoter_r,(n_promoter-n_promoter_r)),\n",
    "          'missense': (n_missense_r,(n_missense-n_missense_r)),\n",
    "          'nonsense': (n_nonsense_r,(n_nonsense-n_nonsense_r))\n",
    "          }\n",
    "\n",
    "colours = ['#e41a1c', '#377eb8']\n",
    "\n",
    "size_of_groups=[n_syn_r,(n_syn-n_syn_r)]\n",
    "size_of_groups=[n_missense_r,(n_missense-n_missense_r)]\n",
    "\n",
    "\n",
    "for i in groups:\n",
    "\n",
    "    size_of_groups = groups[i]    \n",
    "\n",
    "    # Create a pieplot\n",
    "    fig,axes=plt.subplots(1,1,figsize=(3,3))\n",
    "    axes.pie(size_of_groups, colors=colours)\n",
    "\n",
    "    # add a circle at the center to transform it in a donut chart\n",
    "    my_circle=plt.Circle( (0,0), 0.5, color='white')\n",
    "    fig.gca().add_artist(my_circle)\n",
    "    fig.savefig('pdf/fig-donut-'+i+'.pdf',bbox_inches='tight',transparent=True)\n",
    "    "
   ]
  },
  {
   "cell_type": "code",
   "execution_count": 17,
   "metadata": {},
   "outputs": [
    {
     "data": {
      "image/png": "[encoded data removed]",
      "text/plain": [
       "<Figure size 120x800 with 1 Axes>"
      ]
     },
     "metadata": {},
     "output_type": "display_data"
    }
   ],
   "source": [
    "fig,axes=plt.subplots(1,1,figsize=(1.2,8))\n",
    "axes.spines['right'].set_visible(False)\n",
    "axes.spines['top'].set_visible(False)\n",
    "axes.spines['bottom'].set_visible(False)\n",
    "axes.spines['left'].set_visible(False)\n",
    "axes.axis('off')\n",
    "axes.bar(1, n_promoter, width=1, color='#252525')\n",
    "axes.bar(1, n_syn, bottom=n_promoter, width=1, color='#525252')\n",
    "axes.bar(1, n_missense, bottom=n_promoter+n_syn, width=1, color='#737373')\n",
    "axes.bar(1, n_nonsense, bottom=n_promoter+n_syn+n_missense, width=1, color='#969696')\n",
    "axes.bar(1, n_indel, bottom=n_promoter+n_syn+n_missense+n_nonsense, width=1, color='#bdbdbd')\n",
    "\n",
    "fig.savefig('pdf/fig-1_hist-variation.pdf',bbox_inches='tight',transparent=True)"
   ]
  },
  {
   "cell_type": "code",
   "execution_count": null,
   "metadata": {},
   "outputs": [],
   "source": []
  }
 ],
 "metadata": {
  "kernelspec": {
   "display_name": "Python 3",
   "language": "python",
   "name": "python3"
  },
  "language_info": {
   "codemirror_mode": {
    "name": "ipython",
    "version": 3
   },
   "file_extension": ".py",
   "mimetype": "text/x-python",
   "name": "python",
   "nbconvert_exporter": "python",
   "pygments_lexer": "ipython3",
   "version": "3.10.9"
  },
  "orig_nbformat": 4,
  "vscode": {
   "interpreter": {
    "hash": "7a792fcb311f9eb9f3c1b942a8c87ada8484712b89b670347c16a1088e0a1f69"
   }
  }
 },
 "nbformat": 4,
 "nbformat_minor": 2
}
