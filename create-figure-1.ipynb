{
 "cells": [
  {
   "cell_type": "code",
   "execution_count": 51,
   "metadata": {},
   "outputs": [],
   "source": [
    "import numpy, pandas\n",
    "\n",
    "import matplotlib.pyplot as plt"
   ]
  },
  {
   "cell_type": "code",
   "execution_count": 45,
   "metadata": {},
   "outputs": [],
   "source": [
    "with open('./data/NC_000962.3_pncA.fasta','r') as INPUT:\n",
    "    INPUT.readline()\n",
    "    pncA_sequence = INPUT.readline()"
   ]
  },
  {
   "cell_type": "code",
   "execution_count": 46,
   "metadata": {},
   "outputs": [],
   "source": [
    "aminoacids = 'FFLLSSSSYY!!CC!WLLLLPPPPHHQQRRRRIIIMTTTTNNKKSSRRVVVVAAAADDEEGGGG'\n",
    "bases = ['t', 'c', 'a', 'g']\n",
    "all_codons = numpy.array([a+b+c for a in bases for b in bases for c in bases])\n",
    "codon_to_amino_acid = dict(zip(all_codons, aminoacids))\n"
   ]
  },
  {
   "cell_type": "code",
   "execution_count": 102,
   "metadata": {},
   "outputs": [],
   "source": [
    "index = 1\n",
    "\n",
    "maximum_amino_acids = []\n",
    "amino_acid_position = []\n",
    "\n",
    "for codon in [pncA_sequence[i:i+3] for i in range(0,len(pncA_sequence),3)]:\n",
    "    \n",
    "    aminoacid = codon_to_amino_acid[codon]\n",
    "    mutations = []\n",
    "\n",
    "    for pos in [0, 1, 2]:\n",
    "        for i in bases:\n",
    "            if codon[pos] != i:\n",
    "                new_codon = codon[:pos] + i + codon[pos+1:]\n",
    "                new_aminoacid = codon_to_amino_acid[new_codon]\n",
    "\n",
    "                if new_aminoacid != aminoacid and new_aminoacid not in mutations and new_aminoacid!=\"!\":\n",
    "                    mutations.append(new_aminoacid)\n",
    "\n",
    "    # print(index, len(mutations))\n",
    "\n",
    "    maximum_amino_acids.append(len(mutations))\n",
    "    amino_acid_position.append(index)\n",
    "    \n",
    "    index+=1\n",
    "\n",
    "max_aa = pandas.DataFrame(maximum_amino_acids, index=amino_acid_position, columns=['MAX'])"
   ]
  },
  {
   "cell_type": "code",
   "execution_count": 54,
   "metadata": {},
   "outputs": [
    {
     "data": {
      "text/html": [
       "<div>\n",
       "<style scoped>\n",
       "    .dataframe tbody tr th:only-of-type {\n",
       "        vertical-align: middle;\n",
       "    }\n",
       "\n",
       "    .dataframe tbody tr th {\n",
       "        vertical-align: top;\n",
       "    }\n",
       "\n",
       "    .dataframe thead th {\n",
       "        text-align: right;\n",
       "    }\n",
       "</style>\n",
       "<table border=\"1\" class=\"dataframe\">\n",
       "  <thead>\n",
       "    <tr style=\"text-align: right;\">\n",
       "      <th></th>\n",
       "      <th>MUTATION</th>\n",
       "      <th>CONSISTENT_PHENOTYPE</th>\n",
       "    </tr>\n",
       "  </thead>\n",
       "  <tbody>\n",
       "    <tr>\n",
       "      <th>0</th>\n",
       "      <td>A102V</td>\n",
       "      <td>S</td>\n",
       "    </tr>\n",
       "    <tr>\n",
       "      <th>1</th>\n",
       "      <td>A134D</td>\n",
       "      <td>S</td>\n",
       "    </tr>\n",
       "    <tr>\n",
       "      <th>2</th>\n",
       "      <td>A134P</td>\n",
       "      <td>R</td>\n",
       "    </tr>\n",
       "  </tbody>\n",
       "</table>\n",
       "</div>"
      ],
      "text/plain": [
       "  MUTATION CONSISTENT_PHENOTYPE\n",
       "0    A102V                    S\n",
       "1    A134D                    S\n",
       "2    A134P                    R"
      ]
     },
     "execution_count": 54,
     "metadata": {},
     "output_type": "execute_result"
    }
   ],
   "source": [
    "DATASET = pandas.read_csv('data/ds-traintest-phen.csv')\n",
    "DATASET[:3]"
   ]
  },
  {
   "cell_type": "code",
   "execution_count": 55,
   "metadata": {},
   "outputs": [],
   "source": [
    "DATASET.reset_index(inplace=True)\n",
    "def find_position(row):\n",
    "    return int(row.MUTATION[1:-1])\n",
    "\n",
    "DATASET['POSITION'] = DATASET.apply(find_position, axis=1)"
   ]
  },
  {
   "cell_type": "code",
   "execution_count": 103,
   "metadata": {},
   "outputs": [
    {
     "data": {
      "text/html": [
       "<div>\n",
       "<style scoped>\n",
       "    .dataframe tbody tr th:only-of-type {\n",
       "        vertical-align: middle;\n",
       "    }\n",
       "\n",
       "    .dataframe tbody tr th {\n",
       "        vertical-align: top;\n",
       "    }\n",
       "\n",
       "    .dataframe thead th {\n",
       "        text-align: right;\n",
       "    }\n",
       "</style>\n",
       "<table border=\"1\" class=\"dataframe\">\n",
       "  <thead>\n",
       "    <tr style=\"text-align: right;\">\n",
       "      <th></th>\n",
       "      <th>R</th>\n",
       "      <th>S</th>\n",
       "      <th>TOTAL</th>\n",
       "      <th>frac_R</th>\n",
       "      <th>MAX</th>\n",
       "    </tr>\n",
       "    <tr>\n",
       "      <th>POSITION</th>\n",
       "      <th></th>\n",
       "      <th></th>\n",
       "      <th></th>\n",
       "      <th></th>\n",
       "      <th></th>\n",
       "    </tr>\n",
       "  </thead>\n",
       "  <tbody>\n",
       "    <tr>\n",
       "      <th>1</th>\n",
       "      <td>2</td>\n",
       "      <td>1</td>\n",
       "      <td>3</td>\n",
       "      <td>0.666667</td>\n",
       "      <td>6</td>\n",
       "    </tr>\n",
       "    <tr>\n",
       "      <th>2</th>\n",
       "      <td>0</td>\n",
       "      <td>1</td>\n",
       "      <td>1</td>\n",
       "      <td>0.000000</td>\n",
       "      <td>5</td>\n",
       "    </tr>\n",
       "    <tr>\n",
       "      <th>3</th>\n",
       "      <td>1</td>\n",
       "      <td>2</td>\n",
       "      <td>3</td>\n",
       "      <td>0.333333</td>\n",
       "      <td>6</td>\n",
       "    </tr>\n",
       "    <tr>\n",
       "      <th>4</th>\n",
       "      <td>4</td>\n",
       "      <td>1</td>\n",
       "      <td>5</td>\n",
       "      <td>0.800000</td>\n",
       "      <td>5</td>\n",
       "    </tr>\n",
       "    <tr>\n",
       "      <th>5</th>\n",
       "      <td>5</td>\n",
       "      <td>1</td>\n",
       "      <td>6</td>\n",
       "      <td>0.833333</td>\n",
       "      <td>7</td>\n",
       "    </tr>\n",
       "    <tr>\n",
       "      <th>...</th>\n",
       "      <td>...</td>\n",
       "      <td>...</td>\n",
       "      <td>...</td>\n",
       "      <td>...</td>\n",
       "      <td>...</td>\n",
       "    </tr>\n",
       "    <tr>\n",
       "      <th>181</th>\n",
       "      <td>1</td>\n",
       "      <td>1</td>\n",
       "      <td>2</td>\n",
       "      <td>0.500000</td>\n",
       "      <td>6</td>\n",
       "    </tr>\n",
       "    <tr>\n",
       "      <th>182</th>\n",
       "      <td>1</td>\n",
       "      <td>1</td>\n",
       "      <td>2</td>\n",
       "      <td>0.500000</td>\n",
       "      <td>5</td>\n",
       "    </tr>\n",
       "    <tr>\n",
       "      <th>183</th>\n",
       "      <td>1</td>\n",
       "      <td>2</td>\n",
       "      <td>3</td>\n",
       "      <td>0.333333</td>\n",
       "      <td>6</td>\n",
       "    </tr>\n",
       "    <tr>\n",
       "      <th>184</th>\n",
       "      <td>1</td>\n",
       "      <td>1</td>\n",
       "      <td>2</td>\n",
       "      <td>0.500000</td>\n",
       "      <td>6</td>\n",
       "    </tr>\n",
       "    <tr>\n",
       "      <th>185</th>\n",
       "      <td>0</td>\n",
       "      <td>6</td>\n",
       "      <td>6</td>\n",
       "      <td>0.000000</td>\n",
       "      <td>6</td>\n",
       "    </tr>\n",
       "  </tbody>\n",
       "</table>\n",
       "<p>184 rows × 5 columns</p>\n",
       "</div>"
      ],
      "text/plain": [
       "          R  S  TOTAL    frac_R  MAX\n",
       "POSITION                            \n",
       "1         2  1      3  0.666667    6\n",
       "2         0  1      1  0.000000    5\n",
       "3         1  2      3  0.333333    6\n",
       "4         4  1      5  0.800000    5\n",
       "5         5  1      6  0.833333    7\n",
       "...      .. ..    ...       ...  ...\n",
       "181       1  1      2  0.500000    6\n",
       "182       1  1      2  0.500000    5\n",
       "183       1  2      3  0.333333    6\n",
       "184       1  1      2  0.500000    6\n",
       "185       0  6      6  0.000000    6\n",
       "\n",
       "[184 rows x 5 columns]"
      ]
     },
     "execution_count": 103,
     "metadata": {},
     "output_type": "execute_result"
    }
   ],
   "source": [
    "total = pandas.crosstab(DATASET.POSITION, DATASET.CONSISTENT_PHENOTYPE)\n",
    "total['TOTAL'] = total.R + total.S\n",
    "total['frac_R'] = total['R'] / total['TOTAL']\n",
    "total = total.join(max_aa)\n",
    "total"
   ]
  },
  {
   "cell_type": "code",
   "execution_count": 104,
   "metadata": {},
   "outputs": [
    {
     "name": "stdout",
     "output_type": "stream",
     "text": [
      "151 149\n"
     ]
    }
   ],
   "source": [
    "xs=[0.5]\n",
    "ys=[0]\n",
    "yt=[0]\n",
    "\n",
    "prev_idx=0\n",
    "for idx,row in total.iterrows():\n",
    "    if idx-prev_idx!=1:\n",
    "        print(idx, prev_idx)\n",
    "    if idx==151:\n",
    "        xs.append(149.5)\n",
    "        xs.append(150.5)\n",
    "        ys.append(0)\n",
    "        ys.append(0)\n",
    "        yt.append(0)\n",
    "        yt.append(0)\n",
    "    prev_idx=idx\n",
    "    xs.append(idx-0.5)\n",
    "    xs.append(idx+0.5)\n",
    "    ys.append(row.TOTAL)\n",
    "    ys.append(row.TOTAL)\n",
    "    yt.append(row.MAX)\n",
    "    yt.append(row.MAX)"
   ]
  },
  {
   "cell_type": "code",
   "execution_count": 109,
   "metadata": {},
   "outputs": [
    {
     "data": {
      "image/png": "[encoded data removed]",
      "text/plain": [
       "<Figure size 2000x400 with 1 Axes>"
      ]
     },
     "metadata": {},
     "output_type": "display_data"
    }
   ],
   "source": [
    "fig,axes=plt.subplots(1,1,figsize=(20,4))\n",
    "axes.spines['right'].set_visible(False)\n",
    "axes.spines['top'].set_visible(False)\n",
    "axes.set_ylim([0,7])\n",
    "axes.set_yticks(range(0,10,2))\n",
    "axes.set_xticks(range(1,188,31))\n",
    "axes.bar(total.index, total.MAX, width=1, color='#cccccc')\n",
    "axes.bar(total.index, total.S, width=1, color='#377eb8')\n",
    "axes.bar(total.index, total.R, bottom=total.S, width=1, color='#e41a1c')\n",
    "axes.plot(xs,ys, color='black')\n",
    "# axes.plot(xs,yt, color='black')\n",
    "fig.savefig('pdf/fig-1_hist-codon.pdf')"
   ]
  },
  {
   "cell_type": "code",
   "execution_count": null,
   "metadata": {},
   "outputs": [],
   "source": []
  }
 ],
 "metadata": {
  "kernelspec": {
   "display_name": "Python 3",
   "language": "python",
   "name": "python3"
  },
  "language_info": {
   "codemirror_mode": {
    "name": "ipython",
    "version": 3
   },
   "file_extension": ".py",
   "mimetype": "text/x-python",
   "name": "python",
   "nbconvert_exporter": "python",
   "pygments_lexer": "ipython3",
   "version": "3.10.9"
  },
  "orig_nbformat": 4,
  "vscode": {
   "interpreter": {
    "hash": "7a792fcb311f9eb9f3c1b942a8c87ada8484712b89b670347c16a1088e0a1f69"
   }
  }
 },
 "nbformat": 4,
 "nbformat_minor": 2
}
